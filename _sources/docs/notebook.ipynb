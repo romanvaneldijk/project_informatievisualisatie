{
 "cells": [
  {
   "attachments": {},
   "cell_type": "markdown",
   "metadata": {},
   "source": [
    "# Hebben migranten een slechte invloed op de Nederlandse samenleving?\n",
    "\n",
    "### Data story informatievisualisatie"
   ]
  },
  {
   "attachments": {},
   "cell_type": "markdown",
   "metadata": {},
   "source": [
    "* Mert Cincil - 13937863\n",
    "* Kerem Comertpay - 14006502\n",
    "* Roman van Eldijk - 14527685"
   ]
  },
  {
   "cell_type": "code",
   "execution_count": 2,
   "metadata": {"tags": ["hide-input"]},
   "outputs": [],
   "source": [
    "import plotly.graph_objs as go\n",
    "import plotly.express as px\n",
    "import pandas as pd\n",
    "import matplotlib.pyplot as plt\n",
    "import numpy as np"
   ]
  },
  {
   "attachments": {},
   "cell_type": "markdown",
   "metadata": {},
   "source": [
    "# Introductie\n",
    "\n",
    "Ons Data Story gaat over correlatie tussen het groeiende aantal migranten in Nederland en de welvaart van Nederland. Hierbij nemen we diverse economische indicatoren in beschouwing, met bijzondere aandacht voor de gemiddelde inkomsten als een maatstaf voor de algemene welvaart. \n",
    "\n",
    "Daarnaast gaan we verder door een tweede correlatie te onderzoeken: die tussen de groei van het aantal migranten en de criminaliteitscijfers in Nederland. De vraag rijst of er een directe link is tussen de toename van de migrantenpopulatie en een mogelijke stijging van de criminaliteit. Het is belangrijk om te benadrukken dat we geen vooraf bepaalde conclusies trekken, maar eerder streven naar een objectieve analyse van de beschikbare gegevens om eventuele patronen of trends te identificeren.\n",
    "\n",
    "We willen dit onderzoeken omdat het grote maatschappelijke relevantie heeft. Het is handig om mogelijke correlaties tussen migrantenpopulaties en criminaliteitscijfers te begrijpen. Dit kan namelijk informeren over beleid en praktijken met betrekking tot immigratie, integratie, veiligheid en sociaal welzijn\n",
    "\n",
    "Indien er een positieve correlatie wordt vastgesteld, is het essentieel om de onderliggende factoren te begrijpen. Het kan bijvoorbeeld zijn dat factoren zoals sociaaleconomische omstandigheden, de ervaring van discriminatie, gebrek aan toegang tot onderwijs en werkgelegenheid, of andere structurele ongelijkheden bijdragen aan een hogere criminaliteitsgraad onder sommige migrantengroepen.\n",
    "\n",
    "Dergelijk inzicht zou kunnen leiden tot beleid dat zich richt op het verminderen van dergelijke ongelijkheden en het verbeteren van de integratie en inclusie van migranten. Hierdoor zou de criminaliteit kunnen dalen, en de sociale samengang en het algehele welzijn in de samenleving kunnen toenemen.\n",
    "\n",
    "Aan de andere kant, als er geen correlatie wordt gevonden, kan dit helpen bij het bestrijden van stereotype beelden en vooroordelen over migranten als een bron van criminaliteit. Het kan bijdragen aan een meer feitelijk gebaseerde dialoog en een rechtvaardiger beleid ten aanzien van migranten.\n",
    "\n",
    "In beide gevallen draagt het onderzoek bij aan het bevorderen van een geïnformeerde, feitelijk correcte discussie over migratie en criminaliteit, wat uiteindelijk bijdraagt aan een rechtvaardiger, eerijker en veiliger samenleving.\n",
    "\n",
    "Voor ons onderzoek maken we gebruik van vijf specifieke datasets. De eerste dataset omvat gegevens over het aantal migranten dat vanaf het begin van de registratie tot en met het jaar 2022 naar Nederland is gekomen. De tweede dataset biedt inzicht in de gemiddelde inkomens in Nederland tot en met het jaar 2022, waardoor we een solide basis hebben om de economische impact te beoordelen. De derde dataset, betreft geregistreerde verdachten van criminele activiteiten die een migratieachtergrond hebben. Daarnaast hebben we nog een dataset met onveiligheidsgevoel van Nederlandse inwoners. Verder hebben we een dataset met de migratieredenen van migranten in Nederland. Tenslotte hebben gebruiken wij een dataset met de bbp van Denemarken en Nederland. Deze gegevens stellen ons in staat om eventuele correlaties tussen migratie, criminaliteit en welvaart te onderzoeken.\n",
    "\n",
    "\n"
   ]
  },
  {
   "attachments": {},
   "cell_type": "markdown",
   "metadata": {},
   "source": [
    "# Preprocessing\n"
   ]
  },
  {
   "attachments": {},
   "cell_type": "markdown",
   "metadata": {},
   "source": [
    "**Immigranten naar nederland**\n",
    "\n",
    "Cijfers van het cbs die het aantal inkomende immigranten (x1000) per jaar laat zien. De originele dataset liet ook migratiesaldo en emigratie zien, maar deze hebben wij niet gebruikt omdat het geen toegevoegde waarde heeft voor het beantwoorden van de onderzoeksvraag.\n",
    "\n",
    "Bron: https://www.cbs.nl/nl-nl/dossier/dossier-asiel-migratie-en-integratie/hoeveel-immigranten-komen-naar-nederland\n",
    " "
   ]
  },
  {
   "cell_type": "code",
   "execution_count": 3,
   "metadata": {"tags": ["hide-input"]},
   "outputs": [
    {
     "data": {
      "text/html": [
       "<div>\n",
       "<style scoped>\n",
       "    .dataframe tbody tr th:only-of-type {\n",
       "        vertical-align: middle;\n",
       "    }\n",
       "\n",
       "    .dataframe tbody tr th {\n",
       "        vertical-align: top;\n",
       "    }\n",
       "\n",
       "    .dataframe thead th {\n",
       "        text-align: right;\n",
       "    }\n",
       "</style>\n",
       "<table border=\"1\" class=\"dataframe\">\n",
       "  <thead>\n",
       "    <tr style=\"text-align: right;\">\n",
       "      <th></th>\n",
       "      <th>jaar</th>\n",
       "      <th>immigranten</th>\n",
       "    </tr>\n",
       "  </thead>\n",
       "  <tbody>\n",
       "    <tr>\n",
       "      <th>0</th>\n",
       "      <td>2002</td>\n",
       "      <td>121</td>\n",
       "    </tr>\n",
       "    <tr>\n",
       "      <th>1</th>\n",
       "      <td>2003</td>\n",
       "      <td>104</td>\n",
       "    </tr>\n",
       "    <tr>\n",
       "      <th>2</th>\n",
       "      <td>2004</td>\n",
       "      <td>94</td>\n",
       "    </tr>\n",
       "    <tr>\n",
       "      <th>3</th>\n",
       "      <td>2005</td>\n",
       "      <td>92</td>\n",
       "    </tr>\n",
       "    <tr>\n",
       "      <th>4</th>\n",
       "      <td>2006</td>\n",
       "      <td>101</td>\n",
       "    </tr>\n",
       "  </tbody>\n",
       "</table>\n",
       "</div>"
      ],
      "text/plain": [
       "   jaar  immigranten\n",
       "0  2002          121\n",
       "1  2003          104\n",
       "2  2004           94\n",
       "3  2005           92\n",
       "4  2006          101"
      ]
     },
     "metadata": {},
     "output_type": "display_data"
    }
   ],
   "source": [
    "migratie = pd.read_csv('migratie_nederland.csv')\n",
    "# De data is een verkeerde format  gedownload waarbij de kolom namen niet overeenkwamen met de daadwerkelijke kolommen\n",
    "# Alleen de eerste twee kolommen waren nodig (jaar en immigratie). De andere kolommen hebben we er dus uitgehaald\n",
    "migratie_processed = migratie[['Jaar;Immigratie;Emigratie;Migratiesaldo', 'New Split Column']]\n",
    "\n",
    "# De kolom namen hebben we aangepast zodat deze makkelijk af te lezen konden worden\n",
    "migratie_processed = migratie_processed.rename(columns={'Jaar;Immigratie;Emigratie;Migratiesaldo': 'jaar',\n",
    "                                'New Split Column': 'immigranten'})\n",
    "\n",
    "display(migratie_processed.head())\n"
   ]
  },
  {
   "attachments": {},
   "cell_type": "markdown",
   "metadata": {},
   "source": [
    "**Geregistreerde verdachten**\n",
    "\n",
    "Cijfers van het cbs die het aantal geregistreerde verdachten laat zien en hun bijbehorende achtergrond. \n",
    "\n",
    "De data was veel uitgebreider met afkomst uit alle landen en of de verdachten 1e of 2e generatie migratieachtergrond hadden. Om de data bruikbaar te maken, is de dataset gedownload met de juiste delimeter om ervoor te zorgen dat het in het juiste formaat werd opgeslagen.\n",
    "\n",
    "Na het downloaden van de data, merkten we op dat de kolomnamen niet correct waren. Om dit te corrigeren, hebben we de kolomnamen aangepast. Hierdoor konden we de gegevens op een gestructureerde manier analyseren en presenteren.\n",
    "\n",
    "De jaartallen zijn gerangschikt in kolommen, terwijl de rijen de verschillende categorieën verdachten vertegenwoordigen. Dit kwam niet overeen met de structuur die nodig was, om de rijen naar kolommen en kolommen naar rijen te krijgen is de dataframe getransponeerd. \n",
    "\n",
    "\n",
    "\n",
    "Bron: https://www.cbs.nl/nl-nl/cijfers/detail/81959NED?q=geregistreerde%20verdachten "
   ]
  },
  {
   "cell_type": "code",
   "execution_count": 4,
   "metadata": {"tags": ["hide-input"]},
   "outputs": [
    {
     "data": {
      "text/html": [
       "<div>\n",
       "<style scoped>\n",
       "    .dataframe tbody tr th:only-of-type {\n",
       "        vertical-align: middle;\n",
       "    }\n",
       "\n",
       "    .dataframe tbody tr th {\n",
       "        vertical-align: top;\n",
       "    }\n",
       "\n",
       "    .dataframe thead th {\n",
       "        text-align: right;\n",
       "    }\n",
       "</style>\n",
       "<table border=\"1\" class=\"dataframe\">\n",
       "  <thead>\n",
       "    <tr style=\"text-align: right;\">\n",
       "      <th></th>\n",
       "      <th>Perioden</th>\n",
       "      <th>2012</th>\n",
       "      <th>2013</th>\n",
       "      <th>2014</th>\n",
       "      <th>2015</th>\n",
       "      <th>2016</th>\n",
       "      <th>2017</th>\n",
       "      <th>2018</th>\n",
       "      <th>2019</th>\n",
       "      <th>2020</th>\n",
       "      <th>2021*</th>\n",
       "      <th>2022*</th>\n",
       "    </tr>\n",
       "  </thead>\n",
       "  <tbody>\n",
       "    <tr>\n",
       "      <th>1</th>\n",
       "      <td>Totaal</td>\n",
       "      <td>252180</td>\n",
       "      <td>234230</td>\n",
       "      <td>219240</td>\n",
       "      <td>200400</td>\n",
       "      <td>186910</td>\n",
       "      <td>172550</td>\n",
       "      <td>165960</td>\n",
       "      <td>167850</td>\n",
       "      <td>156200</td>\n",
       "      <td>146210</td>\n",
       "      <td>158290</td>\n",
       "    </tr>\n",
       "    <tr>\n",
       "      <th>2</th>\n",
       "      <td>Nederlandse achtergrond</td>\n",
       "      <td>136120</td>\n",
       "      <td>124500</td>\n",
       "      <td>116950</td>\n",
       "      <td>104810</td>\n",
       "      <td>96160</td>\n",
       "      <td>88120</td>\n",
       "      <td>83140</td>\n",
       "      <td>82340</td>\n",
       "      <td>74610</td>\n",
       "      <td>70300</td>\n",
       "      <td>72890</td>\n",
       "    </tr>\n",
       "    <tr>\n",
       "      <th>3</th>\n",
       "      <td>Met migratieachtergrond</td>\n",
       "      <td>114680</td>\n",
       "      <td>108930</td>\n",
       "      <td>101670</td>\n",
       "      <td>94950</td>\n",
       "      <td>90220</td>\n",
       "      <td>83760</td>\n",
       "      <td>82010</td>\n",
       "      <td>84590</td>\n",
       "      <td>80950</td>\n",
       "      <td>75370</td>\n",
       "      <td>84520</td>\n",
       "    </tr>\n",
       "  </tbody>\n",
       "</table>\n",
       "</div>"
      ],
      "text/plain": [
       "0                 Perioden    2012    2013    2014    2015    2016    2017  \\\n",
       "1                   Totaal  252180  234230  219240  200400  186910  172550   \n",
       "2  Nederlandse achtergrond  136120  124500  116950  104810   96160   88120   \n",
       "3  Met migratieachtergrond  114680  108930  101670   94950   90220   83760   \n",
       "\n",
       "0    2018    2019    2020   2021*   2022*  \n",
       "1  165960  167850  156200  146210  158290  \n",
       "2   83140   82340   74610   70300   72890  \n",
       "3   82010   84590   80950   75370   84520  "
      ]
     },
     "metadata": {},
     "output_type": "display_data"
    }
   ],
   "source": [
    "# Sidenote: de data was veel uitgebreider met afkomst uit alle landen en of de verdachten 1e of 2e generatie migratieachtergrond hebben. Echter, hebben wij via de site van het cbs de data iets aangepast zodat we de data makkelijk konden transformeren en gebruiken bij visualisaties.\n",
    "\n",
    "# Download de data met de juiste delimeter zodat we niet een verkeerd format krijgen\n",
    "verdachten = pd.read_csv('verdachten_met_migratie_achtergrond_nederland.csv', delimiter=';', header=0)\n",
    "\n",
    "# De kolom namen waren weer verkeerd dus hebben we de namen van de eerste row (Perioden) gebruikt als kolomnamen \n",
    "verdachten.columns = verdachten.iloc[0]\n",
    "\n",
    "# De eerste row (Perioden hadden we nu niet meer nodig omdat deze al in de kolom namen staan)\n",
    "verdachten = verdachten[1:]\n",
    "\n",
    "# De rijen zijn het totaal aantal verdachten, verdachten met nederlandse achtergrond en verdachten met migratieachtergrond. Op de kolommen staan de jaartallen.\n",
    "display(verdachten.head()) "
   ]
  },
  {
   "cell_type": "code",
   "execution_count": 5,
   "metadata": {"tags": ["hide-input"]},
   "outputs": [
    {
     "data": {
      "text/html": [
       "<div>\n",
       "<style scoped>\n",
       "    .dataframe tbody tr th:only-of-type {\n",
       "        vertical-align: middle;\n",
       "    }\n",
       "\n",
       "    .dataframe tbody tr th {\n",
       "        vertical-align: top;\n",
       "    }\n",
       "\n",
       "    .dataframe thead th {\n",
       "        text-align: right;\n",
       "    }\n",
       "</style>\n",
       "<table border=\"1\" class=\"dataframe\">\n",
       "  <thead>\n",
       "    <tr style=\"text-align: right;\">\n",
       "      <th>Jaar</th>\n",
       "      <th>Totaal</th>\n",
       "      <th>Nederlandse achtergrond</th>\n",
       "      <th>Met migratieachtergrond</th>\n",
       "    </tr>\n",
       "    <tr>\n",
       "      <th>0</th>\n",
       "      <th></th>\n",
       "      <th></th>\n",
       "      <th></th>\n",
       "    </tr>\n",
       "  </thead>\n",
       "  <tbody>\n",
       "    <tr>\n",
       "      <th>2012</th>\n",
       "      <td>252180</td>\n",
       "      <td>136120</td>\n",
       "      <td>114680</td>\n",
       "    </tr>\n",
       "    <tr>\n",
       "      <th>2013</th>\n",
       "      <td>234230</td>\n",
       "      <td>124500</td>\n",
       "      <td>108930</td>\n",
       "    </tr>\n",
       "    <tr>\n",
       "      <th>2014</th>\n",
       "      <td>219240</td>\n",
       "      <td>116950</td>\n",
       "      <td>101670</td>\n",
       "    </tr>\n",
       "    <tr>\n",
       "      <th>2015</th>\n",
       "      <td>200400</td>\n",
       "      <td>104810</td>\n",
       "      <td>94950</td>\n",
       "    </tr>\n",
       "    <tr>\n",
       "      <th>2016</th>\n",
       "      <td>186910</td>\n",
       "      <td>96160</td>\n",
       "      <td>90220</td>\n",
       "    </tr>\n",
       "  </tbody>\n",
       "</table>\n",
       "</div>"
      ],
      "text/plain": [
       "Jaar  Totaal  Nederlandse achtergrond  Met migratieachtergrond\n",
       "0                                                             \n",
       "2012  252180                   136120                   114680\n",
       "2013  234230                   124500                   108930\n",
       "2014  219240                   116950                   101670\n",
       "2015  200400                   104810                    94950\n",
       "2016  186910                    96160                    90220"
      ]
     },
     "metadata": {},
     "output_type": "display_data"
    }
   ],
   "source": [
    "# Aangezien we de jaartallen op de rijen willen hebben we het dataframe omgedraaid\n",
    "verdachten.set_index('Perioden', inplace=True)\n",
    "verdachten.index.name = 'Jaar'\n",
    "verdachten = verdachten.T\n",
    "verdachten = verdachten.astype(int)\n",
    "display(verdachten.head())"
   ]
  },
  {
   "attachments": {},
   "cell_type": "markdown",
   "metadata": {},
   "source": [
    "**Inkomstenbron van immigranten die in 2016 naar Nederland zijn gekomen**\n",
    "\n",
    "Cijfers van het cbs die laten zien hoe immigranten die in 2016 naar Nederland komen zich in de toekomende 5 jaar van inkomsten voorzien. De eerste kolom is gepreprocessed naar de index van de dataframe om zo de jaren als index te krijgen. Verder zijn de waardes van de dataframe omgezet naar integers. \n",
    "\n",
    "Bron: https://www.cbs.nl/nl-nl/dossier/dossier-asiel-migratie-en-integratie/hoeveel-immigranten-komen-naar-nederland"
   ]
  },
  {
   "cell_type": "code",
   "execution_count": 6,
   "metadata": {"tags": ["hide-input"]},
   "outputs": [
    {
     "data": {
      "text/html": [
       "<div>\n",
       "<style scoped>\n",
       "    .dataframe tbody tr th:only-of-type {\n",
       "        vertical-align: middle;\n",
       "    }\n",
       "\n",
       "    .dataframe tbody tr th {\n",
       "        vertical-align: top;\n",
       "    }\n",
       "\n",
       "    .dataframe thead th {\n",
       "        text-align: right;\n",
       "    }\n",
       "</style>\n",
       "<table border=\"1\" class=\"dataframe\">\n",
       "  <thead>\n",
       "    <tr style=\"text-align: right;\">\n",
       "      <th></th>\n",
       "      <th>Werknemer en zelfstandige</th>\n",
       "      <th>Uitkerings- en pensioenontvanger</th>\n",
       "      <th>(School)kind of student</th>\n",
       "      <th>Overige (zonder inkomen)</th>\n",
       "    </tr>\n",
       "    <tr>\n",
       "      <th>Jaar</th>\n",
       "      <th></th>\n",
       "      <th></th>\n",
       "      <th></th>\n",
       "      <th></th>\n",
       "    </tr>\n",
       "  </thead>\n",
       "  <tbody>\n",
       "    <tr>\n",
       "      <th>1</th>\n",
       "      <td>11285</td>\n",
       "      <td>18660</td>\n",
       "      <td>20125</td>\n",
       "      <td>15620</td>\n",
       "    </tr>\n",
       "    <tr>\n",
       "      <th>2</th>\n",
       "      <td>11660</td>\n",
       "      <td>18755</td>\n",
       "      <td>18360</td>\n",
       "      <td>10230</td>\n",
       "    </tr>\n",
       "    <tr>\n",
       "      <th>3</th>\n",
       "      <td>13915</td>\n",
       "      <td>15525</td>\n",
       "      <td>17150</td>\n",
       "      <td>8005</td>\n",
       "    </tr>\n",
       "    <tr>\n",
       "      <th>4</th>\n",
       "      <td>16855</td>\n",
       "      <td>12035</td>\n",
       "      <td>16215</td>\n",
       "      <td>6880</td>\n",
       "    </tr>\n",
       "    <tr>\n",
       "      <th>5</th>\n",
       "      <td>17455</td>\n",
       "      <td>11665</td>\n",
       "      <td>15170</td>\n",
       "      <td>5685</td>\n",
       "    </tr>\n",
       "  </tbody>\n",
       "</table>\n",
       "</div>"
      ],
      "text/plain": [
       "      Werknemer en zelfstandige  Uitkerings- en pensioenontvanger  \\\n",
       "Jaar                                                                \n",
       "1                         11285                             18660   \n",
       "2                         11660                             18755   \n",
       "3                         13915                             15525   \n",
       "4                         16855                             12035   \n",
       "5                         17455                             11665   \n",
       "\n",
       "      (School)kind of student  Overige (zonder inkomen)  \n",
       "Jaar                                                     \n",
       "1                       20125                     15620  \n",
       "2                       18360                     10230  \n",
       "3                       17150                      8005  \n",
       "4                       16215                      6880  \n",
       "5                       15170                      5685  "
      ]
     },
     "metadata": {},
     "output_type": "display_data"
    }
   ],
   "source": [
    "inkomsten_immigranten = pd.read_csv('aankomst-2016.csv', delimiter=';')\n",
    "# De eerste kolom veranderen naar de index\n",
    "inkomsten_immigranten = inkomsten_immigranten.set_index('Jaar na aankomst')\n",
    "\n",
    "# Naam aanpassen\n",
    "inkomsten_immigranten.index.name = 'Jaar'\n",
    "# Values veranderen zodat er mee gerekend kan worden\n",
    "inkomsten_immigranten = inkomsten_immigranten.replace(' ', '', regex=True).astype(int)\n",
    "display(inkomsten_immigranten)"
   ]
  },
  {
   "attachments": {},
   "cell_type": "markdown",
   "metadata": {},
   "source": [
    "**Onveiligheids gevoel van Nederlanders**\n",
    "\n",
    "Cijfers van het cbs over het onveiligheidsgevoel van Nederlanders over een periode van 2012 tot 2019. De dateset zien er onoverzichtelijk uit. Op de rijen staan verschillende situaties waarin mensen zich onveilig voelen en op de kolommen staan de jaren. Van dataset wordt alleen gebruik gemaakt van de eerste rij waarin wordt gevraagd of mensen zich over het algemeen wel eens onveilig voelen. De value is het percentage mensen dat zich wel eens onveilig voelt. Om met de waardes te rekenen zijn de komma's omgezet naar punten en zijn de values omgezet naar floats.\n",
    "\n",
    "\n",
    "Bron: https://www.cbs.nl/nl-nl/cijfers/detail/81877NED"
   ]
  },
  {
   "cell_type": "code",
   "execution_count": 21,
   "metadata": {"tags": ["hide-input"]},
   "outputs": [
    {
     "data": {
      "text/html": [
       "<div>\n",
       "<style scoped>\n",
       "    .dataframe tbody tr th:only-of-type {\n",
       "        vertical-align: middle;\n",
       "    }\n",
       "\n",
       "    .dataframe tbody tr th {\n",
       "        vertical-align: top;\n",
       "    }\n",
       "\n",
       "    .dataframe thead th {\n",
       "        text-align: right;\n",
       "    }\n",
       "</style>\n",
       "<table border=\"1\" class=\"dataframe\">\n",
       "  <thead>\n",
       "    <tr style=\"text-align: right;\">\n",
       "      <th></th>\n",
       "      <th>(On)veiligheidsbeleving; regio (2012-2019)</th>\n",
       "      <th>Column 02</th>\n",
       "      <th>Column 03</th>\n",
       "      <th>Column 04</th>\n",
       "      <th>Column 05</th>\n",
       "      <th>Column 06</th>\n",
       "      <th>Column 07</th>\n",
       "      <th>Column 08</th>\n",
       "      <th>Column 09</th>\n",
       "    </tr>\n",
       "  </thead>\n",
       "  <tbody>\n",
       "    <tr>\n",
       "      <th>0</th>\n",
       "      <td>Onderwerp</td>\n",
       "      <td>Perioden</td>\n",
       "      <td>2012</td>\n",
       "      <td>2013</td>\n",
       "      <td>2014</td>\n",
       "      <td>2015</td>\n",
       "      <td>2016</td>\n",
       "      <td>2017</td>\n",
       "      <td>2019</td>\n",
       "    </tr>\n",
       "    <tr>\n",
       "      <th>1</th>\n",
       "      <td>(On)veiligheidsbeleving |Algemeen|Onveiligheid...</td>\n",
       "      <td>%</td>\n",
       "      <td>36,6</td>\n",
       "      <td>36,7</td>\n",
       "      <td>35,9</td>\n",
       "      <td>35,6</td>\n",
       "      <td>34,7</td>\n",
       "      <td>34,1</td>\n",
       "      <td>31,8</td>\n",
       "    </tr>\n",
       "    <tr>\n",
       "      <th>2</th>\n",
       "      <td>(On)veiligheidsbeleving |Algemeen|Onveiligheid...</td>\n",
       "      <td>%</td>\n",
       "      <td>1,8</td>\n",
       "      <td>1,9</td>\n",
       "      <td>1,8</td>\n",
       "      <td>1,7</td>\n",
       "      <td>1,6</td>\n",
       "      <td>1,6</td>\n",
       "      <td>1,4</td>\n",
       "    </tr>\n",
       "    <tr>\n",
       "      <th>3</th>\n",
       "      <td>(On)veiligheidsbeleving |Algemeen|Kans om slac...</td>\n",
       "      <td>% '(heel) groot'</td>\n",
       "      <td>3,9</td>\n",
       "      <td>5,1</td>\n",
       "      <td>3,9</td>\n",
       "      <td>3,8</td>\n",
       "      <td>3,2</td>\n",
       "      <td>3,1</td>\n",
       "      <td>2,6</td>\n",
       "    </tr>\n",
       "    <tr>\n",
       "      <th>4</th>\n",
       "      <td>(On)veiligheidsbeleving |Algemeen|Kans om slac...</td>\n",
       "      <td>% '(heel) groot'</td>\n",
       "      <td>2,7</td>\n",
       "      <td>2,9</td>\n",
       "      <td>2,5</td>\n",
       "      <td>2,5</td>\n",
       "      <td>2,1</td>\n",
       "      <td>1,9</td>\n",
       "      <td>1,7</td>\n",
       "    </tr>\n",
       "    <tr>\n",
       "      <th>5</th>\n",
       "      <td>(On)veiligheidsbeleving |Algemeen|Kans om slac...</td>\n",
       "      <td>% '(heel) groot'</td>\n",
       "      <td>10,2</td>\n",
       "      <td>12,1</td>\n",
       "      <td>11,0</td>\n",
       "      <td>10,9</td>\n",
       "      <td>9,2</td>\n",
       "      <td>9,0</td>\n",
       "      <td>7,8</td>\n",
       "    </tr>\n",
       "    <tr>\n",
       "      <th>6</th>\n",
       "      <td>(On)veiligheidsbeleving |Algemeen|Kans om slac...</td>\n",
       "      <td>% '(heel) groot'</td>\n",
       "      <td>2,4</td>\n",
       "      <td>2,5</td>\n",
       "      <td>2,3</td>\n",
       "      <td>2,5</td>\n",
       "      <td>2,2</td>\n",
       "      <td>2,2</td>\n",
       "      <td>1,9</td>\n",
       "    </tr>\n",
       "    <tr>\n",
       "      <th>7</th>\n",
       "      <td>(On)veiligheidsbeleving |Buurt|Onveiligheidsge...</td>\n",
       "      <td>%</td>\n",
       "      <td>18,0</td>\n",
       "      <td>18,8</td>\n",
       "      <td>18,2</td>\n",
       "      <td>18,1</td>\n",
       "      <td>16,4</td>\n",
       "      <td>16,4</td>\n",
       "      <td>14,4</td>\n",
       "    </tr>\n",
       "    <tr>\n",
       "      <th>8</th>\n",
       "      <td>(On)veiligheidsbeleving |Buurt|Onveiligheidsge...</td>\n",
       "      <td>%</td>\n",
       "      <td>1,7</td>\n",
       "      <td>1,8</td>\n",
       "      <td>1,8</td>\n",
       "      <td>1,7</td>\n",
       "      <td>1,5</td>\n",
       "      <td>1,5</td>\n",
       "      <td>1,4</td>\n",
       "    </tr>\n",
       "    <tr>\n",
       "      <th>9</th>\n",
       "      <td>(On)veiligheidsbeleving |Buurt|Onveiligheidsge...</td>\n",
       "      <td>% komt vaak voor</td>\n",
       "      <td>3,7</td>\n",
       "      <td>3,6</td>\n",
       "      <td>3,5</td>\n",
       "      <td>3,5</td>\n",
       "      <td>3,1</td>\n",
       "      <td>3,2</td>\n",
       "      <td>2,9</td>\n",
       "    </tr>\n",
       "  </tbody>\n",
       "</table>\n",
       "</div>"
      ],
      "text/plain": [
       "          (On)veiligheidsbeleving; regio (2012-2019)         Column 02  \\\n",
       "0                                          Onderwerp          Perioden   \n",
       "1  (On)veiligheidsbeleving |Algemeen|Onveiligheid...                 %   \n",
       "2  (On)veiligheidsbeleving |Algemeen|Onveiligheid...                 %   \n",
       "3  (On)veiligheidsbeleving |Algemeen|Kans om slac...  % '(heel) groot'   \n",
       "4  (On)veiligheidsbeleving |Algemeen|Kans om slac...  % '(heel) groot'   \n",
       "5  (On)veiligheidsbeleving |Algemeen|Kans om slac...  % '(heel) groot'   \n",
       "6  (On)veiligheidsbeleving |Algemeen|Kans om slac...  % '(heel) groot'   \n",
       "7  (On)veiligheidsbeleving |Buurt|Onveiligheidsge...                 %   \n",
       "8  (On)veiligheidsbeleving |Buurt|Onveiligheidsge...                 %   \n",
       "9  (On)veiligheidsbeleving |Buurt|Onveiligheidsge...  % komt vaak voor   \n",
       "\n",
       "  Column 03 Column 04 Column 05 Column 06 Column 07 Column 08 Column 09  \n",
       "0      2012      2013      2014      2015      2016      2017      2019  \n",
       "1      36,6      36,7      35,9      35,6      34,7      34,1      31,8  \n",
       "2       1,8       1,9       1,8       1,7       1,6       1,6       1,4  \n",
       "3       3,9       5,1       3,9       3,8       3,2       3,1       2,6  \n",
       "4       2,7       2,9       2,5       2,5       2,1       1,9       1,7  \n",
       "5      10,2      12,1      11,0      10,9       9,2       9,0       7,8  \n",
       "6       2,4       2,5       2,3       2,5       2,2       2,2       1,9  \n",
       "7      18,0      18,8      18,2      18,1      16,4      16,4      14,4  \n",
       "8       1,7       1,8       1,8       1,7       1,5       1,5       1,4  \n",
       "9       3,7       3,6       3,5       3,5       3,1       3,2       2,9  "
      ]
     },
     "metadata": {},
     "output_type": "display_data"
    },
    {
     "data": {
      "text/plain": [
       "0\n",
       "2012    36.6\n",
       "2013    36.7\n",
       "2014    35.9\n",
       "2015    35.6\n",
       "2016    34.7\n",
       "2017    34.1\n",
       "2019    31.8\n",
       "Name: 1, dtype: float64"
      ]
     },
     "metadata": {},
     "output_type": "display_data"
    }
   ],
   "source": [
    "onveilig = pd.read_csv('onveilig_gevoel.csv', delimiter=';')\n",
    "display(onveilig.head(10))\n",
    "# De dateset zien er nu heel onoverzichtelijk uit. Op de rijen staan verschillende situaties waarin mensen zich onveilig voelen en op de kolommen staan de jaren. In onze data story gebruiken we alleen de eerste rij waarin wordt gevraagd of mensen zich over het algemeen wel eens onveilig voelen.\n",
    "# De value is het percentage mensen dat zich wel eens onveilig voelt. \n",
    "\n",
    "onveilig = pd.DataFrame(onveilig)\n",
    "# De jaartallen op de kolommen\n",
    "onveilig.columns = onveilig.iloc[0]\n",
    "# Eerste rij hebben we niet meer nodig\n",
    "onveilig = onveilig[1:]\n",
    "# Aangezien we alleen de rij gebruiken die gaat over of mensen zich over het algemeen wel eens onveilig voelen, gebruiken we alleen de tweede rij\n",
    "onveilig = onveilig.iloc[0]\n",
    "# Op de eerste twee rijen staan nu Onderwerp en Perioden en deze hebben we niet nodig om een grafiek te maken\n",
    "onveilig = onveilig.iloc[2:]\n",
    "# Om er mee te rekenen hebben we de komma's vervangen met punten\n",
    "onveilig = onveilig.str.replace(\",\", \".\")\n",
    "# De values moeten floats zijn\n",
    "onveilig = onveilig.astype(float)\n",
    "display(onveilig)"
   ]
  },
  {
   "attachments": {},
   "cell_type": "markdown",
   "metadata": {},
   "source": [
    "**Migratiereden voor migranten over een lange periode**\n",
    "\n",
    "Cijfers van het cbs die laten zien wat de reden is voor migranten om naar Nederland te komen\n",
    "\n",
    "Bron: https://www.cbs.nl/nl-nl/nieuws/2017/27/gezin-nog-steeds-belangrijkste-reden-voor-immigratie"
   ]
  },
  {
   "cell_type": "code",
   "execution_count": 8,
   "metadata": {"tags": ["hide-input"]},
   "outputs": [
    {
     "data": {
      "text/plain": [
       "Asiel     26960\n",
       "Arbeid    30540\n",
       "Gezin     51920\n",
       "Studie    19805\n",
       "Name: 16, dtype: int64"
      ]
     },
     "metadata": {},
     "output_type": "display_data"
    }
   ],
   "source": [
    "reden = pd.read_csv(\"migratie_reden.csv\", sep=\",\")\n",
    "\n",
    "# Kies de meest recente data\n",
    "laatste_data = reden.loc[reden.iloc[:, 0] == reden.iloc[:, 0].max(), ['Asiel', 'Arbeid', 'Gezin', 'Studie']].squeeze()\n",
    "display(laatste_data)"
   ]
  },
  {
   "attachments": {},
   "cell_type": "markdown",
   "metadata": {},
   "source": []
  },
  {
   "attachments": {},
   "cell_type": "markdown",
   "metadata": {},
   "source": [
    "**Combinatie van immigranten naar Nederland en de inkomstenbron van migranten vanaf 2016**\n",
    "\n",
    "Dit is een combinatie van twee datasets die eerder in preprocessing is gebruikt. De kolom met de jaren is als index gezet en de kolom namen zijn aangepast zodat de twee datasets samengevoegd konden worden. Ook zijn de types van de waardes omgezet naar integers.\n",
    "\n",
    "Bronnen: https://www.cbs.nl/nl-nl/dossier/dossier-asiel-migratie-en-integratie/hoeveel-immigranten-komen-naar-nederland & https://www.cbs.nl/nl-nl/dossier/dossier-asiel-migratie-en-integratie/hoeveel-immigranten-komen-naar-nederland\n"
   ]
  },
  {
   "cell_type": "code",
   "execution_count": 9,
   "metadata": {"tags": ["hide-input"]},
   "outputs": [
    {
     "data": {
      "text/html": [
       "<div>\n",
       "<style scoped>\n",
       "    .dataframe tbody tr th:only-of-type {\n",
       "        vertical-align: middle;\n",
       "    }\n",
       "\n",
       "    .dataframe tbody tr th {\n",
       "        vertical-align: top;\n",
       "    }\n",
       "\n",
       "    .dataframe thead th {\n",
       "        text-align: right;\n",
       "    }\n",
       "</style>\n",
       "<table border=\"1\" class=\"dataframe\">\n",
       "  <thead>\n",
       "    <tr style=\"text-align: right;\">\n",
       "      <th></th>\n",
       "      <th>immigranten</th>\n",
       "      <th>Totaal</th>\n",
       "      <th>Nederlandse achtergrond</th>\n",
       "      <th>Met migratieachtergrond</th>\n",
       "    </tr>\n",
       "  </thead>\n",
       "  <tbody>\n",
       "    <tr>\n",
       "      <th>2012</th>\n",
       "      <td>158000</td>\n",
       "      <td>252180</td>\n",
       "      <td>136120</td>\n",
       "      <td>114680</td>\n",
       "    </tr>\n",
       "    <tr>\n",
       "      <th>2013</th>\n",
       "      <td>164000</td>\n",
       "      <td>234230</td>\n",
       "      <td>124500</td>\n",
       "      <td>108930</td>\n",
       "    </tr>\n",
       "    <tr>\n",
       "      <th>2014</th>\n",
       "      <td>182000</td>\n",
       "      <td>219240</td>\n",
       "      <td>116950</td>\n",
       "      <td>101670</td>\n",
       "    </tr>\n",
       "    <tr>\n",
       "      <th>2015</th>\n",
       "      <td>204000</td>\n",
       "      <td>200400</td>\n",
       "      <td>104810</td>\n",
       "      <td>94950</td>\n",
       "    </tr>\n",
       "    <tr>\n",
       "      <th>2016</th>\n",
       "      <td>230000</td>\n",
       "      <td>186910</td>\n",
       "      <td>96160</td>\n",
       "      <td>90220</td>\n",
       "    </tr>\n",
       "    <tr>\n",
       "      <th>2017</th>\n",
       "      <td>234000</td>\n",
       "      <td>172550</td>\n",
       "      <td>88120</td>\n",
       "      <td>83760</td>\n",
       "    </tr>\n",
       "    <tr>\n",
       "      <th>2018</th>\n",
       "      <td>243000</td>\n",
       "      <td>165960</td>\n",
       "      <td>83140</td>\n",
       "      <td>82010</td>\n",
       "    </tr>\n",
       "    <tr>\n",
       "      <th>2019</th>\n",
       "      <td>269000</td>\n",
       "      <td>167850</td>\n",
       "      <td>82340</td>\n",
       "      <td>84590</td>\n",
       "    </tr>\n",
       "    <tr>\n",
       "      <th>2020</th>\n",
       "      <td>220000</td>\n",
       "      <td>156200</td>\n",
       "      <td>74610</td>\n",
       "      <td>80950</td>\n",
       "    </tr>\n",
       "    <tr>\n",
       "      <th>2021</th>\n",
       "      <td>252000</td>\n",
       "      <td>146210</td>\n",
       "      <td>70300</td>\n",
       "      <td>75370</td>\n",
       "    </tr>\n",
       "    <tr>\n",
       "      <th>2022</th>\n",
       "      <td>401000</td>\n",
       "      <td>158290</td>\n",
       "      <td>72890</td>\n",
       "      <td>84520</td>\n",
       "    </tr>\n",
       "  </tbody>\n",
       "</table>\n",
       "</div>"
      ],
      "text/plain": [
       "      immigranten  Totaal  Nederlandse achtergrond  Met migratieachtergrond\n",
       "2012       158000  252180                   136120                   114680\n",
       "2013       164000  234230                   124500                   108930\n",
       "2014       182000  219240                   116950                   101670\n",
       "2015       204000  200400                   104810                    94950\n",
       "2016       230000  186910                    96160                    90220\n",
       "2017       234000  172550                    88120                    83760\n",
       "2018       243000  165960                    83140                    82010\n",
       "2019       269000  167850                    82340                    84590\n",
       "2020       220000  156200                    74610                    80950\n",
       "2021       252000  146210                    70300                    75370\n",
       "2022       401000  158290                    72890                    84520"
      ]
     },
     "metadata": {},
     "output_type": "display_data"
    }
   ],
   "source": [
    "#TOTAAL IMMIGRATIE X INKOMSTEN 2016\n",
    "TxI = migratie[['Jaar;Immigratie;Emigratie;Migratiesaldo', 'New Split Column']]\n",
    "TxI = TxI.rename(columns={'Jaar;Immigratie;Emigratie;Migratiesaldo': 'Jaar',\n",
    "                                'New Split Column': 'immigranten'})\n",
    "TxI = TxI.set_index('Jaar')\n",
    "TxI = TxI.loc['2012':]\n",
    "TxI.rename(index={'2022*': 2022}, inplace=True)\n",
    "\n",
    "# Pas de naam aan van het jaar om het de joinen met de andere dataset\n",
    "verdachten.rename(index={'2021*': 2021,'2022*': 2022}, inplace=True)\n",
    "# Verander de type van de jaren\n",
    "a = TxI.index\n",
    "a = a.astype('int64')\n",
    "TxI.index = a\n",
    "TxI = TxI['immigranten'].mul(1000, axis = 0)\n",
    "\n",
    "# Voeg de datasets samen\n",
    "result = pd.concat([TxI, verdachten], axis=1, join=\"inner\")\n",
    "\n",
    "display(result)"
   ]
  },
  {
   "attachments": {},
   "cell_type": "markdown",
   "metadata": {},
   "source": [
    "**Het BBP van Nederland en Denemarken van de afgelopen jaren**\n",
    "\n",
    "\n",
    "Bronnen: 'https://raw.githubusercontent.com/datasets/gdp/master/data/gdp.csv'\n"
   ]
  },
  {
   "cell_type": "code",
   "execution_count": 22,
   "metadata": {"tags": ["hide-input"]}
   ,
   "outputs": [],
   "source": [
    "data_url = 'https://raw.githubusercontent.com/datasets/gdp/master/data/gdp.csv'\n",
    "\n",
    "df = pd.read_csv(data_url)\n",
    "\n",
    "denmark_df = df[df['Country Name'] == 'Denmark']\n",
    "netherlands_df = df[df['Country Name'] == 'Netherlands']\n",
    "\n",
    "years = [2019, 2020, 2021, 2022]\n",
    "denmark_gdp_values = [346500000000.06, 355220000000.01, 398300000000.09]\n",
    "netherlands_gdp_values = [910190000000.04, 909790000000.03, 1012850000000.01]\n",
    "\n",
    "denmark_data = [{'Country Name': 'Denmark', 'Year': year, 'Value': denmark_gdp} for year, denmark_gdp in zip(years, denmark_gdp_values)]\n",
    "netherlands_data = [{'Country Name': 'Netherlands', 'Year': year, 'Value': netherlands_gdp} for year, netherlands_gdp in zip(years, netherlands_gdp_values)]\n",
    "\n",
    "denmark_df = pd.concat([denmark_df, pd.DataFrame(denmark_data)], ignore_index=True)\n",
    "netherlands_df = pd.concat([netherlands_df, pd.DataFrame(netherlands_data)], ignore_index=True)\n",
    "\n",
    "\n",
    "denmark_df = denmark_df[denmark_df['Year'] >= 2004]\n",
    "netherlands_df = netherlands_df[netherlands_df['Year'] >= 2004]"
   ]
  },
  {
   "attachments": {},
   "cell_type": "markdown",
   "metadata": {},
   "source": [
    "# *Graphs*"
   ]
  },
  {
   "attachments": {},
   "cell_type": "markdown",
   "metadata": {},
   "source": [
    "### Figuur 1\n",
    "Figuur 1 toont het totale aantal immigranten dat naar Nederland komt over een periode van 20 jaar, waarbij de x-as de jaren en de y-as het aantal immigranten (x1000) weergeven. De lijn is een stijgende lijn gedurende de jaren, wat wijst op een toenemende immigratie naar Nederland. In 2022 is er te zien dat er een significante toename is ten opzichte van het jaar daarvoor (2021)."
   ]
  },
  {
   "cell_type": "code",
   "execution_count": 11,
   "metadata": {"tags": ["hide-input"]},
   "outputs": [
    {
     "data": {
      "application/vnd.plotly.v1+json": {
       "config": {
        "plotlyServerURL": "https://plot.ly"
       },
       "data": [
        {
         "marker": {
          "color": [
           121,
           104,
           94,
           92,
           101,
           116,
           143,
           146,
           154,
           162,
           158,
           164,
           182,
           204,
           230,
           234,
           243,
           269,
           220,
           252,
           401
          ],
          "colorscale": [
           [
            0,
            "rgb(255,245,240)"
           ],
           [
            0.125,
            "rgb(254,224,210)"
           ],
           [
            0.25,
            "rgb(252,187,161)"
           ],
           [
            0.375,
            "rgb(252,146,114)"
           ],
           [
            0.5,
            "rgb(251,106,74)"
           ],
           [
            0.625,
            "rgb(239,59,44)"
           ],
           [
            0.75,
            "rgb(203,24,29)"
           ],
           [
            0.875,
            "rgb(165,15,21)"
           ],
           [
            1,
            "rgb(103,0,13)"
           ]
          ]
         },
         "type": "bar",
         "x": [
          "2002",
          "2003",
          "2004",
          "2005",
          "2006",
          "2007",
          "2008",
          "2009",
          "2010",
          "2011",
          "2012",
          "2013",
          "2014",
          "2015",
          "2016",
          "2017",
          "2018",
          "2019",
          "2020",
          "2021",
          "2022*"
         ],
         "y": [
          121,
          104,
          94,
          92,
          101,
          116,
          143,
          146,
          154,
          162,
          158,
          164,
          182,
          204,
          230,
          234,
          243,
          269,
          220,
          252,
          401
         ]
        }
       ],
       "layout": {
        "font": {
         "color": "white",
         "family": "Courier New"
        },
        "paper_bgcolor": "rgb(30, 30, 30)",
        "plot_bgcolor": "rgb(80, 80, 80)",
        "template": {
         "data": {
          "bar": [
           {
            "error_x": {
             "color": "#2a3f5f"
            },
            "error_y": {
             "color": "#2a3f5f"
            },
            "marker": {
             "line": {
              "color": "#E5ECF6",
              "width": 0.5
             },
             "pattern": {
              "fillmode": "overlay",
              "size": 10,
              "solidity": 0.2
             }
            },
            "type": "bar"
           }
          ],
          "barpolar": [
           {
            "marker": {
             "line": {
              "color": "#E5ECF6",
              "width": 0.5
             },
             "pattern": {
              "fillmode": "overlay",
              "size": 10,
              "solidity": 0.2
             }
            },
            "type": "barpolar"
           }
          ],
          "carpet": [
           {
            "aaxis": {
             "endlinecolor": "#2a3f5f",
             "gridcolor": "white",
             "linecolor": "white",
             "minorgridcolor": "white",
             "startlinecolor": "#2a3f5f"
            },
            "baxis": {
             "endlinecolor": "#2a3f5f",
             "gridcolor": "white",
             "linecolor": "white",
             "minorgridcolor": "white",
             "startlinecolor": "#2a3f5f"
            },
            "type": "carpet"
           }
          ],
          "choropleth": [
           {
            "colorbar": {
             "outlinewidth": 0,
             "ticks": ""
            },
            "type": "choropleth"
           }
          ],
          "contour": [
           {
            "colorbar": {
             "outlinewidth": 0,
             "ticks": ""
            },
            "colorscale": [
             [
              0,
              "#0d0887"
             ],
             [
              0.1111111111111111,
              "#46039f"
             ],
             [
              0.2222222222222222,
              "#7201a8"
             ],
             [
              0.3333333333333333,
              "#9c179e"
             ],
             [
              0.4444444444444444,
              "#bd3786"
             ],
             [
              0.5555555555555556,
              "#d8576b"
             ],
             [
              0.6666666666666666,
              "#ed7953"
             ],
             [
              0.7777777777777778,
              "#fb9f3a"
             ],
             [
              0.8888888888888888,
              "#fdca26"
             ],
             [
              1,
              "#f0f921"
             ]
            ],
            "type": "contour"
           }
          ],
          "contourcarpet": [
           {
            "colorbar": {
             "outlinewidth": 0,
             "ticks": ""
            },
            "type": "contourcarpet"
           }
          ],
          "heatmap": [
           {
            "colorbar": {
             "outlinewidth": 0,
             "ticks": ""
            },
            "colorscale": [
             [
              0,
              "#0d0887"
             ],
             [
              0.1111111111111111,
              "#46039f"
             ],
             [
              0.2222222222222222,
              "#7201a8"
             ],
             [
              0.3333333333333333,
              "#9c179e"
             ],
             [
              0.4444444444444444,
              "#bd3786"
             ],
             [
              0.5555555555555556,
              "#d8576b"
             ],
             [
              0.6666666666666666,
              "#ed7953"
             ],
             [
              0.7777777777777778,
              "#fb9f3a"
             ],
             [
              0.8888888888888888,
              "#fdca26"
             ],
             [
              1,
              "#f0f921"
             ]
            ],
            "type": "heatmap"
           }
          ],
          "heatmapgl": [
           {
            "colorbar": {
             "outlinewidth": 0,
             "ticks": ""
            },
            "colorscale": [
             [
              0,
              "#0d0887"
             ],
             [
              0.1111111111111111,
              "#46039f"
             ],
             [
              0.2222222222222222,
              "#7201a8"
             ],
             [
              0.3333333333333333,
              "#9c179e"
             ],
             [
              0.4444444444444444,
              "#bd3786"
             ],
             [
              0.5555555555555556,
              "#d8576b"
             ],
             [
              0.6666666666666666,
              "#ed7953"
             ],
             [
              0.7777777777777778,
              "#fb9f3a"
             ],
             [
              0.8888888888888888,
              "#fdca26"
             ],
             [
              1,
              "#f0f921"
             ]
            ],
            "type": "heatmapgl"
           }
          ],
          "histogram": [
           {
            "marker": {
             "pattern": {
              "fillmode": "overlay",
              "size": 10,
              "solidity": 0.2
             }
            },
            "type": "histogram"
           }
          ],
          "histogram2d": [
           {
            "colorbar": {
             "outlinewidth": 0,
             "ticks": ""
            },
            "colorscale": [
             [
              0,
              "#0d0887"
             ],
             [
              0.1111111111111111,
              "#46039f"
             ],
             [
              0.2222222222222222,
              "#7201a8"
             ],
             [
              0.3333333333333333,
              "#9c179e"
             ],
             [
              0.4444444444444444,
              "#bd3786"
             ],
             [
              0.5555555555555556,
              "#d8576b"
             ],
             [
              0.6666666666666666,
              "#ed7953"
             ],
             [
              0.7777777777777778,
              "#fb9f3a"
             ],
             [
              0.8888888888888888,
              "#fdca26"
             ],
             [
              1,
              "#f0f921"
             ]
            ],
            "type": "histogram2d"
           }
          ],
          "histogram2dcontour": [
           {
            "colorbar": {
             "outlinewidth": 0,
             "ticks": ""
            },
            "colorscale": [
             [
              0,
              "#0d0887"
             ],
             [
              0.1111111111111111,
              "#46039f"
             ],
             [
              0.2222222222222222,
              "#7201a8"
             ],
             [
              0.3333333333333333,
              "#9c179e"
             ],
             [
              0.4444444444444444,
              "#bd3786"
             ],
             [
              0.5555555555555556,
              "#d8576b"
             ],
             [
              0.6666666666666666,
              "#ed7953"
             ],
             [
              0.7777777777777778,
              "#fb9f3a"
             ],
             [
              0.8888888888888888,
              "#fdca26"
             ],
             [
              1,
              "#f0f921"
             ]
            ],
            "type": "histogram2dcontour"
           }
          ],
          "mesh3d": [
           {
            "colorbar": {
             "outlinewidth": 0,
             "ticks": ""
            },
            "type": "mesh3d"
           }
          ],
          "parcoords": [
           {
            "line": {
             "colorbar": {
              "outlinewidth": 0,
              "ticks": ""
             }
            },
            "type": "parcoords"
           }
          ],
          "pie": [
           {
            "automargin": true,
            "type": "pie"
           }
          ],
          "scatter": [
           {
            "fillpattern": {
             "fillmode": "overlay",
             "size": 10,
             "solidity": 0.2
            },
            "type": "scatter"
           }
          ],
          "scatter3d": [
           {
            "line": {
             "colorbar": {
              "outlinewidth": 0,
              "ticks": ""
             }
            },
            "marker": {
             "colorbar": {
              "outlinewidth": 0,
              "ticks": ""
             }
            },
            "type": "scatter3d"
           }
          ],
          "scattercarpet": [
           {
            "marker": {
             "colorbar": {
              "outlinewidth": 0,
              "ticks": ""
             }
            },
            "type": "scattercarpet"
           }
          ],
          "scattergeo": [
           {
            "marker": {
             "colorbar": {
              "outlinewidth": 0,
              "ticks": ""
             }
            },
            "type": "scattergeo"
           }
          ],
          "scattergl": [
           {
            "marker": {
             "colorbar": {
              "outlinewidth": 0,
              "ticks": ""
             }
            },
            "type": "scattergl"
           }
          ],
          "scattermapbox": [
           {
            "marker": {
             "colorbar": {
              "outlinewidth": 0,
              "ticks": ""
             }
            },
            "type": "scattermapbox"
           }
          ],
          "scatterpolar": [
           {
            "marker": {
             "colorbar": {
              "outlinewidth": 0,
              "ticks": ""
             }
            },
            "type": "scatterpolar"
           }
          ],
          "scatterpolargl": [
           {
            "marker": {
             "colorbar": {
              "outlinewidth": 0,
              "ticks": ""
             }
            },
            "type": "scatterpolargl"
           }
          ],
          "scatterternary": [
           {
            "marker": {
             "colorbar": {
              "outlinewidth": 0,
              "ticks": ""
             }
            },
            "type": "scatterternary"
           }
          ],
          "surface": [
           {
            "colorbar": {
             "outlinewidth": 0,
             "ticks": ""
            },
            "colorscale": [
             [
              0,
              "#0d0887"
             ],
             [
              0.1111111111111111,
              "#46039f"
             ],
             [
              0.2222222222222222,
              "#7201a8"
             ],
             [
              0.3333333333333333,
              "#9c179e"
             ],
             [
              0.4444444444444444,
              "#bd3786"
             ],
             [
              0.5555555555555556,
              "#d8576b"
             ],
             [
              0.6666666666666666,
              "#ed7953"
             ],
             [
              0.7777777777777778,
              "#fb9f3a"
             ],
             [
              0.8888888888888888,
              "#fdca26"
             ],
             [
              1,
              "#f0f921"
             ]
            ],
            "type": "surface"
           }
          ],
          "table": [
           {
            "cells": {
             "fill": {
              "color": "#EBF0F8"
             },
             "line": {
              "color": "white"
             }
            },
            "header": {
             "fill": {
              "color": "#C8D4E3"
             },
             "line": {
              "color": "white"
             }
            },
            "type": "table"
           }
          ]
         },
         "layout": {
          "annotationdefaults": {
           "arrowcolor": "#2a3f5f",
           "arrowhead": 0,
           "arrowwidth": 1
          },
          "autotypenumbers": "strict",
          "coloraxis": {
           "colorbar": {
            "outlinewidth": 0,
            "ticks": ""
           }
          },
          "colorscale": {
           "diverging": [
            [
             0,
             "#8e0152"
            ],
            [
             0.1,
             "#c51b7d"
            ],
            [
             0.2,
             "#de77ae"
            ],
            [
             0.3,
             "#f1b6da"
            ],
            [
             0.4,
             "#fde0ef"
            ],
            [
             0.5,
             "#f7f7f7"
            ],
            [
             0.6,
             "#e6f5d0"
            ],
            [
             0.7,
             "#b8e186"
            ],
            [
             0.8,
             "#7fbc41"
            ],
            [
             0.9,
             "#4d9221"
            ],
            [
             1,
             "#276419"
            ]
           ],
           "sequential": [
            [
             0,
             "#0d0887"
            ],
            [
             0.1111111111111111,
             "#46039f"
            ],
            [
             0.2222222222222222,
             "#7201a8"
            ],
            [
             0.3333333333333333,
             "#9c179e"
            ],
            [
             0.4444444444444444,
             "#bd3786"
            ],
            [
             0.5555555555555556,
             "#d8576b"
            ],
            [
             0.6666666666666666,
             "#ed7953"
            ],
            [
             0.7777777777777778,
             "#fb9f3a"
            ],
            [
             0.8888888888888888,
             "#fdca26"
            ],
            [
             1,
             "#f0f921"
            ]
           ],
           "sequentialminus": [
            [
             0,
             "#0d0887"
            ],
            [
             0.1111111111111111,
             "#46039f"
            ],
            [
             0.2222222222222222,
             "#7201a8"
            ],
            [
             0.3333333333333333,
             "#9c179e"
            ],
            [
             0.4444444444444444,
             "#bd3786"
            ],
            [
             0.5555555555555556,
             "#d8576b"
            ],
            [
             0.6666666666666666,
             "#ed7953"
            ],
            [
             0.7777777777777778,
             "#fb9f3a"
            ],
            [
             0.8888888888888888,
             "#fdca26"
            ],
            [
             1,
             "#f0f921"
            ]
           ]
          },
          "colorway": [
           "#636efa",
           "#EF553B",
           "#00cc96",
           "#ab63fa",
           "#FFA15A",
           "#19d3f3",
           "#FF6692",
           "#B6E880",
           "#FF97FF",
           "#FECB52"
          ],
          "font": {
           "color": "#2a3f5f"
          },
          "geo": {
           "bgcolor": "white",
           "lakecolor": "white",
           "landcolor": "#E5ECF6",
           "showlakes": true,
           "showland": true,
           "subunitcolor": "white"
          },
          "hoverlabel": {
           "align": "left"
          },
          "hovermode": "closest",
          "mapbox": {
           "style": "light"
          },
          "paper_bgcolor": "white",
          "plot_bgcolor": "#E5ECF6",
          "polar": {
           "angularaxis": {
            "gridcolor": "white",
            "linecolor": "white",
            "ticks": ""
           },
           "bgcolor": "#E5ECF6",
           "radialaxis": {
            "gridcolor": "white",
            "linecolor": "white",
            "ticks": ""
           }
          },
          "scene": {
           "xaxis": {
            "backgroundcolor": "#E5ECF6",
            "gridcolor": "white",
            "gridwidth": 2,
            "linecolor": "white",
            "showbackground": true,
            "ticks": "",
            "zerolinecolor": "white"
           },
           "yaxis": {
            "backgroundcolor": "#E5ECF6",
            "gridcolor": "white",
            "gridwidth": 2,
            "linecolor": "white",
            "showbackground": true,
            "ticks": "",
            "zerolinecolor": "white"
           },
           "zaxis": {
            "backgroundcolor": "#E5ECF6",
            "gridcolor": "white",
            "gridwidth": 2,
            "linecolor": "white",
            "showbackground": true,
            "ticks": "",
            "zerolinecolor": "white"
           }
          },
          "shapedefaults": {
           "line": {
            "color": "#2a3f5f"
           }
          },
          "ternary": {
           "aaxis": {
            "gridcolor": "white",
            "linecolor": "white",
            "ticks": ""
           },
           "baxis": {
            "gridcolor": "white",
            "linecolor": "white",
            "ticks": ""
           },
           "bgcolor": "#E5ECF6",
           "caxis": {
            "gridcolor": "white",
            "linecolor": "white",
            "ticks": ""
           }
          },
          "title": {
           "x": 0.05
          },
          "xaxis": {
           "automargin": true,
           "gridcolor": "white",
           "linecolor": "white",
           "ticks": "",
           "title": {
            "standoff": 15
           },
           "zerolinecolor": "white",
           "zerolinewidth": 2
          },
          "yaxis": {
           "automargin": true,
           "gridcolor": "white",
           "linecolor": "white",
           "ticks": "",
           "title": {
            "standoff": 15
           },
           "zerolinecolor": "white",
           "zerolinewidth": 2
          }
         }
        },
        "title": {
         "text": "Aantal immigranten die per jaar naar Nederland komen"
        },
        "xaxis": {
         "tickangle": 45,
         "title": {
          "text": "Jaar"
         }
        },
        "yaxis": {
         "title": {
          "text": "Aantal migranten naar Nederland (x1000)"
         }
        }
       }
      }
     },
     "metadata": {},
     "output_type": "display_data"
    }
   ],
   "source": [
    "trace = go.Bar(\n",
    "    x = migratie_processed['jaar'],\n",
    "    y = migratie_processed['immigranten'],\n",
    "    # marker=dict(color='#89375F')\n",
    "    marker=dict(color=migratie_processed['immigranten'], colorscale='Reds')\n",
    ")\n",
    "fig = go.Figure(trace)\n",
    "fig.update_layout(\n",
    "    xaxis_title='Jaar',\n",
    "    yaxis_title='Aantal migranten naar Nederland (x1000)',\n",
    "    title='Aantal immigranten die per jaar naar Nederland komen',\n",
    "    plot_bgcolor='rgb(80, 80, 80)',\n",
    "    paper_bgcolor='rgb(30, 30, 30)',\n",
    "    font=dict(\n",
    "        family='Courier New',\n",
    "        color='white'),\n",
    "    xaxis=dict(\n",
    "        tickangle=45\n",
    "    )\n",
    ")\n",
    "fig.show()"
   ]
  },
  {
   "attachments": {},
   "cell_type": "markdown",
   "metadata": {},
   "source": []
  },
  {
   "attachments": {},
   "cell_type": "markdown",
   "metadata": {},
   "source": [
    "### Figuur 2\n",
    "\n",
    "Figuur 2 laat zien dat het totaal aantal verdachten van misdrijven in Nederland jaarlijks afneemt. Hoewel dit ook geldt voor de verdachten met een Nederlandse achtergrond en verdachten met migratieachtergrond is er te zien dat de verdachten met een migratie achtergrond de verdachten met een Nederlandse achtergrond inhalen vanaf 2019."
   ]
  },
  {
   "cell_type": "code",
   "execution_count": 12,
   "metadata": {"tags": ["hide-input"]},
   "outputs": [
    {
     "data": {
      "image/png": "[encoded data removed]",
      "text/plain": [
       "<Figure size 640x480 with 1 Axes>"
      ]
     },
     "metadata": {},
     "output_type": "display_data"
    }
   ],
   "source": [
    "colors = ['#116A7B', '#A2CDB0', '#804674', '#A7CF5D']\n",
    "\n",
    "verdachten.plot(kind='line', marker='o', color=colors, linewidth=2, markersize=6)\n",
    "\n",
    "plt.xlabel('Jaar', fontsize=12, fontname='Calibri', color='white')\n",
    "plt.ylabel('Aantal geregistreerde verdachten', fontsize=12, fontname='Calibri', color='white')\n",
    "plt.title('Aantal geregistreerde verdachten van misdrijven per jaar', fontsize=14, fontname='Calibri', color='white')\n",
    "\n",
    "ax = plt.gca()  \n",
    "ax.set_facecolor('#575a5e') \n",
    "\n",
    "fig = plt.gcf() \n",
    "fig.patch.set_facecolor('#2b2e31')\n",
    "\n",
    "plt.grid(True)\n",
    "\n",
    "plt.xticks(rotation=45, color='white')\n",
    "plt.legend(fontsize=10, facecolor='white')\n",
    "plt.setp(plt.legend().get_texts(), color='black')\n",
    "\n",
    "plt.xlim(2010, 2023)\n",
    "\n",
    "plt.xticks(fontsize=10, fontname='Calibri', color='white', weight='bold')\n",
    "plt.yticks(fontsize=10, fontname='Calibri', color='white', weight='bold')\n",
    "\n",
    "plt.show()"
   ]
  },
  {
   "attachments": {},
   "cell_type": "markdown",
   "metadata": {},
   "source": [
    "### Figuur 3\n",
    "\n",
    "Figuur 3 laat zien dat het moment dat immigranten Nederland in zijn gekomen, jaarlijks de uitkerings- en pensioenontvangers afnemen terwijl de werknemer en zelfstandige juist toenemen. Ook is er te zien dat de immigranten zonder inkomen bijna helemaal af is genomen. Dit geeft een indicatie dat de werkloosheid bij immigranten afneemt, waardoor er toename is van werkende immigranten."
   ]
  },
  {
   "cell_type": "code",
   "execution_count": 14,
   "metadata": {"tags": ["hide-input"]},
   "outputs": [
    {
     "data": {
      "image/png": "[encoded data removed]",
      "text/plain": [
       "<Figure size 640x480 with 1 Axes>"
      ]
     },
     "metadata": {},
     "output_type": "display_data"
    }
   ],
   "source": [
    "inkomsten_immigranten.plot(kind='line',  marker= 'D', color=colors)\n",
    "\n",
    "plt.title('Inkomsten bronnen immigranten uit 2016', fontsize=12, fontname='Calibri', color='white')\n",
    "plt.xlabel('Jaar', fontsize=12, fontname='Calibri', color='white')\n",
    "plt.ylabel('Aantal immigranten', fontsize=12, fontname='Calibri', color='white')\n",
    "\n",
    "ax = plt.gca()\n",
    "ax.set_facecolor('#575a5e') \n",
    "\n",
    "fig = plt.gcf() \n",
    "fig.patch.set_facecolor('#2b2e31')\n",
    "\n",
    "plt.grid(True)\n",
    "\n",
    "plt.xticks(rotation=45, color='white')\n",
    "\n",
    "plt.legend(fontsize=10, facecolor='white')\n",
    "plt.setp(plt.legend().get_texts(), color='black')\n",
    "\n",
    "plt.xticks(fontsize=10, fontname='Calibri', color='white', weight='bold')\n",
    "plt.yticks(fontsize=10, fontname='Calibri', color='white', weight='bold')\n",
    "\n",
    "plt.show()"
   ]
  },
  {
   "attachments": {},
   "cell_type": "markdown",
   "metadata": {},
   "source": [
    "### Figuur 4\n",
    "\n",
    "Figuur 4 laat het percentage mensen zien die zich wel eens onveilig hebben gevoeld in Nederland. Het is een sterk dalende grafiek naarmate het naar het jaar 2019 gaat. Er mist echter wel een datapunt in 2018 omdat er geen meting toen is gedaan, dit is gemarkeerd met de rode lijn."
   ]
  },
  {
   "cell_type": "code",
   "execution_count": null,
   "metadata": {"tags": ["hide-input"]},
   "outputs": [
    {
     "data": {
      "image/png": "[encoded data removed]",
      "text/plain": [
       "<Figure size 640x480 with 1 Axes>"
      ]
     },
     "metadata": {},
     "output_type": "display_data"
    }
   ],
   "source": [
    "index_onveilig = onveilig.index.values.astype(int)\n",
    "values_onveilig = onveilig.values\n",
    "\n",
    "plt.plot(index_onveilig, values_onveilig, marker='D', linestyle='-', color='#0079FF')\n",
    "plt.plot([2017, 2019], [34.1, 31.8], linestyle=':', color='#FF0060')\n",
    "\n",
    "plt.xlabel('Jaar', fontsize=12, fontname='Calibri', color='white')\n",
    "plt.ylabel('Percentage met onveiligheids gevoel', fontsize=12, fontname='Calibri', color='white')\n",
    "plt.title('Het percentage mensen dat zich wel eens onveilig gevoeld (2012-2019)', fontsize=12, fontname='Calibri', color='white')\n",
    "\n",
    "\n",
    "plt.xticks(range(2012, 2020))\n",
    "plt.yticks(range(30, 38, 2))\n",
    "\n",
    "ax = plt.gca()\n",
    "ax.set_facecolor('#575a5e')\n",
    "\n",
    "fig = plt.gcf()\n",
    "fig.patch.set_facecolor('#2b2e31')\n",
    "\n",
    "plt.grid(True)\n",
    "\n",
    "plt.xticks(rotation=45, color='white')\n",
    "\n",
    "plt.xticks(fontsize=10, fontname='Calibri', color='white', weight='bold')\n",
    "plt.yticks(fontsize=10, fontname='Calibri', color='white', weight='bold')\n",
    "\n",
    "plt.show()\n"
   ]
  },
  {
   "attachments": {},
   "cell_type": "markdown",
   "metadata": {},
   "source": [
    "### Figuur 5\n",
    "\n",
    "Figuur 5 laat de migratiemotieven of redenen zien van immigranten die naar Nederland komen zonder een Nederlands achtergrond in 2015. Het grootste percentage immigreert om bij hun gezin te zijn. 23,6 procent immigreert om te werken in Nederland. Verder is er 20,9 procent die asiel heeft gezocht in Nederland en het kleinste percentage immigranten die naar Nederland komen, komen om te studeren."
   ]
  },
  {
   "cell_type": "code",
   "execution_count": null,
   "metadata": {"tags": ["hide-input"]},
   "outputs": [
    {
     "data": {
      "image/png": "[encoded data removed]",
      "text/plain": [
       "<Figure size 1000x600 with 1 Axes>"
      ]
     },
     "metadata": {},
     "output_type": "display_data"
    }
   ],
   "source": [
    "plt.figure(figsize=(10,6))\n",
    "\n",
    "textprops = {'color': 'white', 'fontsize': 10} \n",
    "explode = [0, 0.14, 0, 0] \n",
    "shadow = True\n",
    "startangle = 90\n",
    "\n",
    "plt.pie(laatste_data, labels=laatste_data.index, autopct='%1.1f%%', colors=colors, textprops=textprops, explode=explode, shadow=shadow, startangle=startangle)\n",
    "plt.title('Migratieredenen van niet-Nederlandse immigranten (2015)', fontsize=12, fontname='Calibri', color='white')\n",
    "\n",
    "ax = plt.gca() \n",
    "ax.set_facecolor('#575a5e')\n",
    "\n",
    "fig = plt.gcf()\n",
    "fig.patch.set_facecolor('#2b2e31')\n",
    "\n",
    "\n",
    "plt.show()"
   ]
  },
  {
   "attachments": {},
   "cell_type": "markdown",
   "metadata": {},
   "source": [
    "### Figuur 6\n",
    "\n",
    "Figuur 6 laat het aantal verdachten en het aantal immigranten zien die in Nederland zijn tot 2022. Daarnaast laat het ook de verdachten met een Nederlands achtergrond en verdachten met een immigratie achtergrond zien. Je kunt door deze grafiek een vergelijking doen tussen de komst van migranten en het aantal groeiende of dalende verdachten in Nederland met een migratie achtergrond."
   ]
  },
  {
   "cell_type": "code",
   "execution_count": null,
   "metadata": {"tags": ["hide-input"]},
   "outputs": [
    {
     "data": {
      "image/png": "[encoded data removed]",
      "text/plain": [
       "<Figure size 640x480 with 1 Axes>"
      ]
     },
     "metadata": {},
     "output_type": "display_data"
    }
   ],
   "source": [
    "result.plot(kind='line',  marker= 'o', color=colors)\n",
    "\n",
    "# Set the plot title and labels\n",
    "plt.title('Totaal aantal immigranten t.o.v verdachten', fontsize=12, fontname='Calibri', color='white')\n",
    "plt.xlabel('Jaar', fontsize=12, fontname='Calibri', color='white')\n",
    "plt.ylabel('Aantal immigranten', fontsize=12, fontname='Calibri', color='white')\n",
    "plt.legend(['Totaal aantal immigranten', 'Totaal aantal verdachten', 'Verdachten Nederlandse achtergrond', 'Verdachten immigratie achtergrond'],loc='upper left')\n",
    "\n",
    "\n",
    "ax = plt.gca()  # Get the current axes\n",
    "ax.set_facecolor('#575a5e')  # Set the background color of the graph\n",
    "\n",
    "fig = plt.gcf()  # Get the current figure\n",
    "fig.patch.set_facecolor('#2b2e31')\n",
    "\n",
    "plt.grid(True)\n",
    "\n",
    "plt.xticks(rotation=45, color='white')\n",
    "\n",
    "plt.xticks(fontsize=10, fontname='Calibri', color='white', weight='bold')\n",
    "plt.yticks(fontsize=10, fontname='Calibri', color='white', weight='bold')\n",
    "\n",
    "# Display the plot\n",
    "plt.show()"
   ]
  },
  {
   "attachments": {},
   "cell_type": "markdown",
   "metadata": {},
   "source": [
    "### Figuur 7\n",
    "\n",
    "Figuur 7 laat het BBP van Nederland en Denemarken zien in vergelijking met elkaar vanaf 2004 tot 2021. De x-as laat het huidige BBP in US dollars($) zien van dat jaar, en de y-as laat de jaren zien. Hier is te zien dat Nederland jaarlijks (meer dan) het dubbele in BBP heeft ten opzichte van Denemarken."
   ]
  },
  {
   "cell_type": "code",
   "execution_count": 23,
   "metadata": {"tags": ["hide-input"]},
   "outputs": [
    {
     "data": {
      "application/vnd.plotly.v1+json": {
       "config": {
        "plotlyServerURL": "https://plot.ly"
       },
       "data": [
        {
         "marker": {
          "color": "rgb(186,19,19)"
         },
         "name": "Denemarken",
         "type": "bar",
         "x": [
          2004,
          2005,
          2006,
          2007,
          2008,
          2009,
          2010,
          2011,
          2012,
          2013,
          2014,
          2015,
          2016,
          2019,
          2020,
          2021
         ],
         "y": [
          251373036671.062,
          264467308109.19,
          282884912894.33,
          319423370134.284,
          353361056079.716,
          321241396034.248,
          321995350346.501,
          344003209695.606,
          327148899962.146,
          343584385594.132,
          352993633221.281,
          301298464861.385,
          306899653409.601,
          346500000000.06,
          355220000000.01,
          398300000000.09
         ]
        },
        {
         "marker": {
          "color": "rgb(255,148,65)"
         },
         "name": "Nederland",
         "type": "bar",
         "x": [
          2004,
          2005,
          2006,
          2007,
          2008,
          2009,
          2010,
          2011,
          2012,
          2013,
          2014,
          2015,
          2016,
          2019,
          2020,
          2021
         ],
         "y": [
          650532654581.574,
          678533764457.157,
          726649102998.369,
          839419655078.018,
          936228211513.11,
          857932759099.75,
          836389937229.197,
          893757287201.688,
          828946812396.788,
          866680000367.264,
          879635084124.987,
          757999453314.269,
          777227541581.307,
          910190000000.04,
          909790000000.03,
          1012850000000.01
         ]
        }
       ],
       "layout": {
        "barmode": "group",
        "template": {
         "data": {
          "bar": [
           {
            "error_x": {
             "color": "#2a3f5f"
            },
            "error_y": {
             "color": "#2a3f5f"
            },
            "marker": {
             "line": {
              "color": "#E5ECF6",
              "width": 0.5
             },
             "pattern": {
              "fillmode": "overlay",
              "size": 10,
              "solidity": 0.2
             }
            },
            "type": "bar"
           }
          ],
          "barpolar": [
           {
            "marker": {
             "line": {
              "color": "#E5ECF6",
              "width": 0.5
             },
             "pattern": {
              "fillmode": "overlay",
              "size": 10,
              "solidity": 0.2
             }
            },
            "type": "barpolar"
           }
          ],
          "carpet": [
           {
            "aaxis": {
             "endlinecolor": "#2a3f5f",
             "gridcolor": "white",
             "linecolor": "white",
             "minorgridcolor": "white",
             "startlinecolor": "#2a3f5f"
            },
            "baxis": {
             "endlinecolor": "#2a3f5f",
             "gridcolor": "white",
             "linecolor": "white",
             "minorgridcolor": "white",
             "startlinecolor": "#2a3f5f"
            },
            "type": "carpet"
           }
          ],
          "choropleth": [
           {
            "colorbar": {
             "outlinewidth": 0,
             "ticks": ""
            },
            "type": "choropleth"
           }
          ],
          "contour": [
           {
            "colorbar": {
             "outlinewidth": 0,
             "ticks": ""
            },
            "colorscale": [
             [
              0,
              "#0d0887"
             ],
             [
              0.1111111111111111,
              "#46039f"
             ],
             [
              0.2222222222222222,
              "#7201a8"
             ],
             [
              0.3333333333333333,
              "#9c179e"
             ],
             [
              0.4444444444444444,
              "#bd3786"
             ],
             [
              0.5555555555555556,
              "#d8576b"
             ],
             [
              0.6666666666666666,
              "#ed7953"
             ],
             [
              0.7777777777777778,
              "#fb9f3a"
             ],
             [
              0.8888888888888888,
              "#fdca26"
             ],
             [
              1,
              "#f0f921"
             ]
            ],
            "type": "contour"
           }
          ],
          "contourcarpet": [
           {
            "colorbar": {
             "outlinewidth": 0,
             "ticks": ""
            },
            "type": "contourcarpet"
           }
          ],
          "heatmap": [
           {
            "colorbar": {
             "outlinewidth": 0,
             "ticks": ""
            },
            "colorscale": [
             [
              0,
              "#0d0887"
             ],
             [
              0.1111111111111111,
              "#46039f"
             ],
             [
              0.2222222222222222,
              "#7201a8"
             ],
             [
              0.3333333333333333,
              "#9c179e"
             ],
             [
              0.4444444444444444,
              "#bd3786"
             ],
             [
              0.5555555555555556,
              "#d8576b"
             ],
             [
              0.6666666666666666,
              "#ed7953"
             ],
             [
              0.7777777777777778,
              "#fb9f3a"
             ],
             [
              0.8888888888888888,
              "#fdca26"
             ],
             [
              1,
              "#f0f921"
             ]
            ],
            "type": "heatmap"
           }
          ],
          "heatmapgl": [
           {
            "colorbar": {
             "outlinewidth": 0,
             "ticks": ""
            },
            "colorscale": [
             [
              0,
              "#0d0887"
             ],
             [
              0.1111111111111111,
              "#46039f"
             ],
             [
              0.2222222222222222,
              "#7201a8"
             ],
             [
              0.3333333333333333,
              "#9c179e"
             ],
             [
              0.4444444444444444,
              "#bd3786"
             ],
             [
              0.5555555555555556,
              "#d8576b"
             ],
             [
              0.6666666666666666,
              "#ed7953"
             ],
             [
              0.7777777777777778,
              "#fb9f3a"
             ],
             [
              0.8888888888888888,
              "#fdca26"
             ],
             [
              1,
              "#f0f921"
             ]
            ],
            "type": "heatmapgl"
           }
          ],
          "histogram": [
           {
            "marker": {
             "pattern": {
              "fillmode": "overlay",
              "size": 10,
              "solidity": 0.2
             }
            },
            "type": "histogram"
           }
          ],
          "histogram2d": [
           {
            "colorbar": {
             "outlinewidth": 0,
             "ticks": ""
            },
            "colorscale": [
             [
              0,
              "#0d0887"
             ],
             [
              0.1111111111111111,
              "#46039f"
             ],
             [
              0.2222222222222222,
              "#7201a8"
             ],
             [
              0.3333333333333333,
              "#9c179e"
             ],
             [
              0.4444444444444444,
              "#bd3786"
             ],
             [
              0.5555555555555556,
              "#d8576b"
             ],
             [
              0.6666666666666666,
              "#ed7953"
             ],
             [
              0.7777777777777778,
              "#fb9f3a"
             ],
             [
              0.8888888888888888,
              "#fdca26"
             ],
             [
              1,
              "#f0f921"
             ]
            ],
            "type": "histogram2d"
           }
          ],
          "histogram2dcontour": [
           {
            "colorbar": {
             "outlinewidth": 0,
             "ticks": ""
            },
            "colorscale": [
             [
              0,
              "#0d0887"
             ],
             [
              0.1111111111111111,
              "#46039f"
             ],
             [
              0.2222222222222222,
              "#7201a8"
             ],
             [
              0.3333333333333333,
              "#9c179e"
             ],
             [
              0.4444444444444444,
              "#bd3786"
             ],
             [
              0.5555555555555556,
              "#d8576b"
             ],
             [
              0.6666666666666666,
              "#ed7953"
             ],
             [
              0.7777777777777778,
              "#fb9f3a"
             ],
             [
              0.8888888888888888,
              "#fdca26"
             ],
             [
              1,
              "#f0f921"
             ]
            ],
            "type": "histogram2dcontour"
           }
          ],
          "mesh3d": [
           {
            "colorbar": {
             "outlinewidth": 0,
             "ticks": ""
            },
            "type": "mesh3d"
           }
          ],
          "parcoords": [
           {
            "line": {
             "colorbar": {
              "outlinewidth": 0,
              "ticks": ""
             }
            },
            "type": "parcoords"
           }
          ],
          "pie": [
           {
            "automargin": true,
            "type": "pie"
           }
          ],
          "scatter": [
           {
            "fillpattern": {
             "fillmode": "overlay",
             "size": 10,
             "solidity": 0.2
            },
            "type": "scatter"
           }
          ],
          "scatter3d": [
           {
            "line": {
             "colorbar": {
              "outlinewidth": 0,
              "ticks": ""
             }
            },
            "marker": {
             "colorbar": {
              "outlinewidth": 0,
              "ticks": ""
             }
            },
            "type": "scatter3d"
           }
          ],
          "scattercarpet": [
           {
            "marker": {
             "colorbar": {
              "outlinewidth": 0,
              "ticks": ""
             }
            },
            "type": "scattercarpet"
           }
          ],
          "scattergeo": [
           {
            "marker": {
             "colorbar": {
              "outlinewidth": 0,
              "ticks": ""
             }
            },
            "type": "scattergeo"
           }
          ],
          "scattergl": [
           {
            "marker": {
             "colorbar": {
              "outlinewidth": 0,
              "ticks": ""
             }
            },
            "type": "scattergl"
           }
          ],
          "scattermapbox": [
           {
            "marker": {
             "colorbar": {
              "outlinewidth": 0,
              "ticks": ""
             }
            },
            "type": "scattermapbox"
           }
          ],
          "scatterpolar": [
           {
            "marker": {
             "colorbar": {
              "outlinewidth": 0,
              "ticks": ""
             }
            },
            "type": "scatterpolar"
           }
          ],
          "scatterpolargl": [
           {
            "marker": {
             "colorbar": {
              "outlinewidth": 0,
              "ticks": ""
             }
            },
            "type": "scatterpolargl"
           }
          ],
          "scatterternary": [
           {
            "marker": {
             "colorbar": {
              "outlinewidth": 0,
              "ticks": ""
             }
            },
            "type": "scatterternary"
           }
          ],
          "surface": [
           {
            "colorbar": {
             "outlinewidth": 0,
             "ticks": ""
            },
            "colorscale": [
             [
              0,
              "#0d0887"
             ],
             [
              0.1111111111111111,
              "#46039f"
             ],
             [
              0.2222222222222222,
              "#7201a8"
             ],
             [
              0.3333333333333333,
              "#9c179e"
             ],
             [
              0.4444444444444444,
              "#bd3786"
             ],
             [
              0.5555555555555556,
              "#d8576b"
             ],
             [
              0.6666666666666666,
              "#ed7953"
             ],
             [
              0.7777777777777778,
              "#fb9f3a"
             ],
             [
              0.8888888888888888,
              "#fdca26"
             ],
             [
              1,
              "#f0f921"
             ]
            ],
            "type": "surface"
           }
          ],
          "table": [
           {
            "cells": {
             "fill": {
              "color": "#EBF0F8"
             },
             "line": {
              "color": "white"
             }
            },
            "header": {
             "fill": {
              "color": "#C8D4E3"
             },
             "line": {
              "color": "white"
             }
            },
            "type": "table"
           }
          ]
         },
         "layout": {
          "annotationdefaults": {
           "arrowcolor": "#2a3f5f",
           "arrowhead": 0,
           "arrowwidth": 1
          },
          "autotypenumbers": "strict",
          "coloraxis": {
           "colorbar": {
            "outlinewidth": 0,
            "ticks": ""
           }
          },
          "colorscale": {
           "diverging": [
            [
             0,
             "#8e0152"
            ],
            [
             0.1,
             "#c51b7d"
            ],
            [
             0.2,
             "#de77ae"
            ],
            [
             0.3,
             "#f1b6da"
            ],
            [
             0.4,
             "#fde0ef"
            ],
            [
             0.5,
             "#f7f7f7"
            ],
            [
             0.6,
             "#e6f5d0"
            ],
            [
             0.7,
             "#b8e186"
            ],
            [
             0.8,
             "#7fbc41"
            ],
            [
             0.9,
             "#4d9221"
            ],
            [
             1,
             "#276419"
            ]
           ],
           "sequential": [
            [
             0,
             "#0d0887"
            ],
            [
             0.1111111111111111,
             "#46039f"
            ],
            [
             0.2222222222222222,
             "#7201a8"
            ],
            [
             0.3333333333333333,
             "#9c179e"
            ],
            [
             0.4444444444444444,
             "#bd3786"
            ],
            [
             0.5555555555555556,
             "#d8576b"
            ],
            [
             0.6666666666666666,
             "#ed7953"
            ],
            [
             0.7777777777777778,
             "#fb9f3a"
            ],
            [
             0.8888888888888888,
             "#fdca26"
            ],
            [
             1,
             "#f0f921"
            ]
           ],
           "sequentialminus": [
            [
             0,
             "#0d0887"
            ],
            [
             0.1111111111111111,
             "#46039f"
            ],
            [
             0.2222222222222222,
             "#7201a8"
            ],
            [
             0.3333333333333333,
             "#9c179e"
            ],
            [
             0.4444444444444444,
             "#bd3786"
            ],
            [
             0.5555555555555556,
             "#d8576b"
            ],
            [
             0.6666666666666666,
             "#ed7953"
            ],
            [
             0.7777777777777778,
             "#fb9f3a"
            ],
            [
             0.8888888888888888,
             "#fdca26"
            ],
            [
             1,
             "#f0f921"
            ]
           ]
          },
          "colorway": [
           "#636efa",
           "#EF553B",
           "#00cc96",
           "#ab63fa",
           "#FFA15A",
           "#19d3f3",
           "#FF6692",
           "#B6E880",
           "#FF97FF",
           "#FECB52"
          ],
          "font": {
           "color": "#2a3f5f"
          },
          "geo": {
           "bgcolor": "white",
           "lakecolor": "white",
           "landcolor": "#E5ECF6",
           "showlakes": true,
           "showland": true,
           "subunitcolor": "white"
          },
          "hoverlabel": {
           "align": "left"
          },
          "hovermode": "closest",
          "mapbox": {
           "style": "light"
          },
          "paper_bgcolor": "white",
          "plot_bgcolor": "#E5ECF6",
          "polar": {
           "angularaxis": {
            "gridcolor": "white",
            "linecolor": "white",
            "ticks": ""
           },
           "bgcolor": "#E5ECF6",
           "radialaxis": {
            "gridcolor": "white",
            "linecolor": "white",
            "ticks": ""
           }
          },
          "scene": {
           "xaxis": {
            "backgroundcolor": "#E5ECF6",
            "gridcolor": "white",
            "gridwidth": 2,
            "linecolor": "white",
            "showbackground": true,
            "ticks": "",
            "zerolinecolor": "white"
           },
           "yaxis": {
            "backgroundcolor": "#E5ECF6",
            "gridcolor": "white",
            "gridwidth": 2,
            "linecolor": "white",
            "showbackground": true,
            "ticks": "",
            "zerolinecolor": "white"
           },
           "zaxis": {
            "backgroundcolor": "#E5ECF6",
            "gridcolor": "white",
            "gridwidth": 2,
            "linecolor": "white",
            "showbackground": true,
            "ticks": "",
            "zerolinecolor": "white"
           }
          },
          "shapedefaults": {
           "line": {
            "color": "#2a3f5f"
           }
          },
          "ternary": {
           "aaxis": {
            "gridcolor": "white",
            "linecolor": "white",
            "ticks": ""
           },
           "baxis": {
            "gridcolor": "white",
            "linecolor": "white",
            "ticks": ""
           },
           "bgcolor": "#E5ECF6",
           "caxis": {
            "gridcolor": "white",
            "linecolor": "white",
            "ticks": ""
           }
          },
          "title": {
           "x": 0.05
          },
          "xaxis": {
           "automargin": true,
           "gridcolor": "white",
           "linecolor": "white",
           "ticks": "",
           "title": {
            "standoff": 15
           },
           "zerolinecolor": "white",
           "zerolinewidth": 2
          },
          "yaxis": {
           "automargin": true,
           "gridcolor": "white",
           "linecolor": "white",
           "ticks": "",
           "title": {
            "standoff": 15
           },
           "zerolinecolor": "white",
           "zerolinewidth": 2
          }
         }
        },
        "title": {
         "text": "BBP van Nederland en Denemarken",
         "x": 0.5
        },
        "xaxis": {
         "title": {
          "text": "Jaar"
         },
         "type": "category"
        },
        "yaxis": {
         "title": {
          "text": "BBP (huidige US$)"
         }
        }
       }
      }
     },
     "metadata": {},
     "output_type": "display_data"
    }
   ],
   "source": [
    "bar1 = go.Bar(\n",
    "    x= denmark_df['Year'],\n",
    "    y= denmark_df['Value'],\n",
    "    name = 'Denemarken',\n",
    "    marker = dict(color='rgb(186,19,19)')\n",
    ")\n",
    "\n",
    "bar2 = go.Bar(\n",
    "    x = netherlands_df['Year'],\n",
    "    y = netherlands_df['Value'],\n",
    "    name = 'Nederland',\n",
    "    marker=dict(color='rgb(255,148,65)'),\n",
    ")\n",
    "\n",
    "group = [bar1, bar2]\n",
    "group_layout = go.Layout(    \n",
    "    xaxis=go.layout.XAxis(\n",
    "        type = 'category', \n",
    "        title = 'Jaar',\n",
    "#         tickangle = 90\n",
    "    ),\n",
    "    yaxis = go.layout.YAxis(\n",
    "        #tickformat = ',.0%', \n",
    "        title = 'BBP (huidige US$)'\n",
    "    ),\n",
    "    \n",
    "    barmode = 'group',\n",
    "    title = 'BBP van Nederland en Denemarken',\n",
    "    title_x = 0.5\n",
    ")\n",
    "\n",
    "fig = go.Figure(data=group, layout=group_layout)\n",
    "fig.show()"
   ]
  },
  {
   "attachments": {},
   "cell_type": "markdown",
   "metadata": {},
   "source": [
    "# **Perspectieven** \n",
    "\n",
    "### *Perspectief 1 (maatschappelijk):* Door de toename van het aantal inkomende migranten, stijgt ook het aantal criminelen met migratieachtergrond in Nederland.\n",
    "\n",
    "We zien in de barplot van figuur 1 dat in het jaar 2019 en het jaar 2022 de meeste migranten naar Nederland komen, daarbij zien we in de linechart van figuur 2 dat er een toename is van het totaal aantal geregistreerde verdachten tijdens deze jaartallen. Verder passeert het aantal geregistreerde verdachten met een migratieachtergrond de verdachten met Nederlandse achtergrond in 2019. En bovendien is de toename van de verdachten met migratieachtergrond in 2022 significant groter dan die van met Nederlandse achtergrond (zie figuur 6)\n",
    "\n",
    "- **Weerlegging 1:** Aan de andere kant neemt het totaal aantal migranten toe in Nederland, maar daalt het totaal aantal geregistreerde verdachten.\n",
    "\n",
    "Er is duidelijk een negatieve correlatie tussen het aantal inkomende migranten in Nederland en het aantal geregistreerde verdachten in Nederland. De trend van inkomende migranten neemt toe en de trend van het aantal verdachten neemt af.\n",
    "\n",
    "- **Weerlegging 2:** Migranten zorgen niet voor een onveiliger Nederland\n",
    "\n",
    "In de grafiek over het onveiligheidsgevoel van Nederlanders (figuur 4), is te zien dat het percentage van mensen die zich wel eens onveilig voelt ieder jaar daalt. Als dit vergeleken wordt met het inkomende aantal migranten ieder jaar (figuur 1), is te zien dat het toenemende aantal migranten geen effect heeft op het onveiligheids gevoel van Nederlanders. \n",
    "\n",
    "### *Perspectief 2 (economisch):* Migranten zorgen niet voor een afname, danwel voor een toename van de welvaart in Nederland. \n",
    "\n",
    "In figuur 3 kan er afgelezen worden dat de inkomsten van migranten aanvankelijk bestond uit een uitkering op het moment dat ze migreerden naar Nederland. Naarmate ze langer in Nederland blijven neemt het aantal migranten die werken voor een baas en/of  zelfstandig bezig zijn toe. Ook is er een grote afname van het aantal uitkeuringen die verstrekt wordt aan migranten. Deze beiden constateringen zorgen voor een hogere arbeidsparticipatie. Een groter aantal werkenden kan leiden tot een verhoogde productie en economische groei. Verder is er een vermindering van de sociale uitgaven. Wanneer het aantal mensen met een uitkering afneemt, worden de kosten hiervoor dus ook minder. Dit kan de druk op de overheidsbegroting verlichten en zo hun middelen op andere belangrijke sectoren inzetten zoals bijvoorbeeld onderwijs. Op basis van deze onderbouwingen kan geconcludeerd worden dat de komst van migranten zorgt voor een toename van de welvaart in Nederland. \n",
    "\n",
    "Verder laat de grafiek over de migratieredenen van migranten in 2015 (figuur 5), zien dat een groot gedeelte van de migranten voor arbeid én voor studie komt. Hieruit kan er opgemaakt worden dat veel migranten juist bijdragen aan een betere welvaart van Nederland. De huidige migratie ten behoeve van arbeid laat zien hoe aantrekkelijk de arbeidsmarkt in Nederland is, vooral in bepaalde sectoren die essentieel zijn voor de economie van het land. Het toont aan dat Nederland internationaal talent en werknemers aantrekt die anders naar een ander land waren gegaan. Deze mensen betalen belastingen, verhogen het bruto binnenlands product en dragen op veel andere manieren bij aan de welvaart van het land. \n",
    "\n",
    "\n",
    "### *Perspectief 3:* Migranten hebben geen effect op het BBP van het land waar de migranten heen gaan. (Denemarken VS Nederland)\n",
    "\n",
    "Denemarken heeft een omstreden migratiebeleid die totaal anders is dan die van Nederland. Het land heeft een strenge regeling waarbij er amper migranten binnenkomen (Eerdmans, 2021). In Nederland daarentegen is dit niet het geval. Nederland heeft een veel soepelere regeling, wat goed terug te zien is in de grafiek over inkomende migranten (figuur 1).  \n",
    "In de grafiek over het BBP van Nederland en Denemarken (figuur 7), kan er afgelezen worden dat de trend van beide landen redelijk gelijk lopen. Als het BBP van Nederland stijgt, stijgt die van Denemarken ook. En als dit vergeleken wordt met de inkomende migranten stroom, is er bijna geen verschil tussen beide landen. Dus ondanks dat Nederland een flink aantal migranten opneemt, blijft haar BBP in dezelfde trend stijgen ten opzichten van Denemarken.\n",
    "\n",
    "\n"
   ]
  },
  {
   "attachments": {},
   "cell_type": "markdown",
   "metadata": {},
   "source": [
    "# Conclusie\n",
    "\n",
    "Op basis van de voorgestelde argumenten en weerleggingen kan worden geconcludeerd dat er geen eenduidige relatie bestaat tussen de instroom van migranten en criminaliteit in Nederland. Hoewel de gegevens een toename laten zien van geregistreerde verdachten met een migratieachtergrond, suggereren andere gegevens een daling van het totaal aantal geregistreerde verdachten en een verminderd gevoel van onveiligheid, ondanks een toename van de migranten in Nederland.\n",
    "\n",
    "Bovendien lijkt de instroom van migranten niet negatief bij te dragen aan de welvaart van het land, en kan zelfs worden geconcludeerd dat migranten mogelijk bijdragen aan de economische groei van Nederland. Dit is onderbouwd door de toename van de arbeidsparticipatie van migranten, de afname van uitkeringen onder migranten, en de stijging van de gemiddelde inkomens ondanks de groei van het aantal migranten.\n",
    "\n",
    "Trends over de tijd en internationale vergelijkingen, zoals de vergelijking met Denemarken, suggereren dat er andere factoren zijn die een grotere invloed hebben op zowel criminaliteitsniveaus als economische welvaart dan migratie alleen."
   ]
  },
  {
   "attachments": {},
   "cell_type": "markdown",
   "metadata": {},
   "source": [
    "# Feedback \n",
    "\n",
    "Nadat wij onze presentatie gaven op 22 juni hebben wij hier nuttige feedback over gekregen. De volgende punten gaven de andere studenten en TA terug als feedback:\n",
    "- verdachten in percentage nemen van het totaal aantal inwoners\n",
    "- inkomsten van immigranten vergelijken met bbp van nederland\n",
    "- ander land vergelijken met strict immigratiebeleid\n",
    "\n",
    "Het eerste punt gaat over de grafiek waarin het aantal geregistreerde verdachten met nederlandse achtergrond wordt vergeleken met die van een migratieachtergrond. Deze grafiek laat de absolute waardes zien van het aantal verdachten. Echter, leven er veel meer Nederlanders in Nederland dan mensen met een migratieachtergrond. Het verschil lijkt in de grafiek niet significant, maar wanneer dit in percentage wordt genomen met het totaal aantal inwoners dan wordt dit verschil een stuk groter. \n",
    "Nadat we deze feedback hebben ontvangen zijn we opzoek gegaan naar een dataset met het aantal migranten in Nederland zodat we dit als percentage konden nemen. Echter is dit niet gelukt, omdat er nergens zo'n dataset gevonden kan worden.\n",
    "\n",
    "Het tweede punt gaat over het vergelijken van de inkomsten van migranten met het bbp van inwoners. Misschien dat er een trend is dat migranten steeds meer gaan verdienen in de komende jaren ten opzichte van het gemiddeld inkomen van Nederlanders. Dit leek ons in eerste instantie een goed idee, maar na overleg hebben we besloten dit niet te doen. Wij denken dat dit te weinig zegt om iets toe te voegen aan onze onderzoeksvraag. \n",
    "\n",
    "Voor het laatste punt werd voorgesteld om een land met een strict migratiebeleid te vergelijken met Nederland (die een soepel migratiebeleid heeft). We willen dan het bbp vergelijken en misschien aantonen dat het bbp toeneemt naarmate Nederland meer migranten binnenkrijgt. We hebben een dataset gevonden op github die het bbp weergeeft per land per jaar, hieruit hebben we Denemarken en Nederland gepakt. \n"
   ]
  },
  {
   "attachments": {},
   "cell_type": "markdown",
   "metadata": {},
   "source": []
  },
  {
   "attachments": {},
   "cell_type": "markdown",
   "metadata": {},
   "source": [
    "# Logboek"
   ]
  },
  {
   "cell_type": "code",
   "execution_count": null,
   "metadata": {"tags": ["hide-input"]},
   "outputs": [
    {
     "data": {
      "text/html": [
       "<div>\n",
       "<style scoped>\n",
       "    .dataframe tbody tr th:only-of-type {\n",
       "        vertical-align: middle;\n",
       "    }\n",
       "\n",
       "    .dataframe tbody tr th {\n",
       "        vertical-align: top;\n",
       "    }\n",
       "\n",
       "    .dataframe thead th {\n",
       "        text-align: right;\n",
       "    }\n",
       "</style>\n",
       "<table border=\"1\" class=\"dataframe\">\n",
       "  <thead>\n",
       "    <tr style=\"text-align: right;\">\n",
       "      <th></th>\n",
       "      <th>Activiteit</th>\n",
       "      <th>Uren</th>\n",
       "      <th>Kerem</th>\n",
       "      <th>Mert</th>\n",
       "      <th>Roman</th>\n",
       "      <th>Probleem &amp; Oplossingen</th>\n",
       "    </tr>\n",
       "    <tr>\n",
       "      <th>Datum</th>\n",
       "      <th></th>\n",
       "      <th></th>\n",
       "      <th></th>\n",
       "      <th></th>\n",
       "      <th></th>\n",
       "      <th></th>\n",
       "    </tr>\n",
       "  </thead>\n",
       "  <tbody>\n",
       "    <tr>\n",
       "      <th>6-6-2023</th>\n",
       "      <td>Werken aan de wekelijkse opdrachten</td>\n",
       "      <td>2</td>\n",
       "      <td>Individueel</td>\n",
       "      <td>Individueel</td>\n",
       "      <td>Individueel</td>\n",
       "      <td>In de eerste week zaten wij tijdens de werkcolleges te werken aan de wekelijkse opdracht.</td>\n",
       "    </tr>\n",
       "    <tr>\n",
       "      <th>8-6-2023</th>\n",
       "      <td>Werken aan de wekelijkse opdrachten</td>\n",
       "      <td>2</td>\n",
       "      <td>Individueel</td>\n",
       "      <td>Individueel</td>\n",
       "      <td>Individueel</td>\n",
       "      <td>In de eerste week zaten wij tijdens de werkcolleges te werken aan de wekelijkse opdracht.</td>\n",
       "    </tr>\n",
       "    <tr>\n",
       "      <th>13-6-2023</th>\n",
       "      <td>Onderzoeksvraag bedenken &amp; Datasets zoeken</td>\n",
       "      <td>2</td>\n",
       "      <td>Gezamenlijk</td>\n",
       "      <td>Gezamenlijk</td>\n",
       "      <td>Gezamenlijk</td>\n",
       "      <td>In deze college zijn wij begonnen met het bedenken van onze onderzoeksvraag en zijn wij datasets gaan zoeken die onze ondersvraag zouden kunnen ondersteunen en weerleggen.</td>\n",
       "    </tr>\n",
       "    <tr>\n",
       "      <th>15-6-2023</th>\n",
       "      <td>Datasets zoeken</td>\n",
       "      <td>3</td>\n",
       "      <td>Gezamenlijk</td>\n",
       "      <td>Gezamenlijk</td>\n",
       "      <td>Gezamenlijk</td>\n",
       "      <td>In deze college zijn wij datasets gaan zoeken die onze ondersvraag zouden kunnen ondersteunen en weerleggen.</td>\n",
       "    </tr>\n",
       "    <tr>\n",
       "      <th>20-6-2023</th>\n",
       "      <td>Onderzoeksvraag veranderen en nieuwe datasets zoeken</td>\n",
       "      <td>4</td>\n",
       "      <td>Gezamenlijk</td>\n",
       "      <td>Gezamenlijk</td>\n",
       "      <td>Gezamenlijk</td>\n",
       "      <td>We kwamen er achter dat onze onderzoeksvraag niet goed genoeg was en besloten wij een andere onderzoeksvraag te vinden en er datasets bij te vinden.</td>\n",
       "    </tr>\n",
       "    <tr>\n",
       "      <th>22-6-2023</th>\n",
       "      <td>Datasets zoeken &amp; Preporcessen en beginnen aan onze onderzoek/Presenteren</td>\n",
       "      <td>3</td>\n",
       "      <td>Argumentaties beargumteren &amp; weerleggen/Plotten</td>\n",
       "      <td>Presenteren/Preprocessen/Plotten</td>\n",
       "      <td>Presenteren/Argumentaties beargumteren &amp; weerleggen/Preprocessen/Plotten</td>\n",
       "      <td>Hier hebben we datasets gevonden en hebben zijn wij begonnen aan de preproccsing om de plots te kunnen visualiseren.</td>\n",
       "    </tr>\n",
       "    <tr>\n",
       "      <th>27-6-2023</th>\n",
       "      <td>Onderzoek aan het afronden</td>\n",
       "      <td>4</td>\n",
       "      <td>Laatste aanpassingen doorvoeren</td>\n",
       "      <td>Laatste aanpassingen doorvoeren</td>\n",
       "      <td>Laatste aanpassingen doorvoeren</td>\n",
       "      <td>We hebben onze data  gevisualiseerd en hebben onze argumenten hiermee kunnen onderbouwen.</td>\n",
       "    </tr>\n",
       "    <tr>\n",
       "      <th>29-6-2023</th>\n",
       "      <td>Laatste aanpassingen aan het uitvoeren op onze onderzoek</td>\n",
       "      <td>2</td>\n",
       "      <td>Laatste aanpassingen doorvoeren</td>\n",
       "      <td>Laatste aanpassingen doorvoeren</td>\n",
       "      <td>Alle delen van het onderzoek samenstellen/laatste aanpassingen doorvoeren</td>\n",
       "      <td>De laatste puntjes zijn op de 'i' gezet en hebben onze onderzoek afgerond.</td>\n",
       "    </tr>\n",
       "  </tbody>\n",
       "</table>\n",
       "</div>"
      ],
      "text/plain": [
       "                                                                          Activiteit  \\\n",
       "Datum                                                                                  \n",
       "6-6-2023                                         Werken aan de wekelijkse opdrachten   \n",
       "8-6-2023                                         Werken aan de wekelijkse opdrachten   \n",
       "13-6-2023                                 Onderzoeksvraag bedenken & Datasets zoeken   \n",
       "15-6-2023                                                            Datasets zoeken   \n",
       "20-6-2023                       Onderzoeksvraag veranderen en nieuwe datasets zoeken   \n",
       "22-6-2023  Datasets zoeken & Preporcessen en beginnen aan onze onderzoek/Presenteren   \n",
       "27-6-2023                                                Onderzoek aan het afronden    \n",
       "29-6-2023                   Laatste aanpassingen aan het uitvoeren op onze onderzoek   \n",
       "\n",
       "           Uren                                            Kerem  \\\n",
       "Datum                                                              \n",
       "6-6-2023      2                                      Individueel   \n",
       "8-6-2023      2                                      Individueel   \n",
       "13-6-2023     2                                      Gezamenlijk   \n",
       "15-6-2023     3                                      Gezamenlijk   \n",
       "20-6-2023     4                                      Gezamenlijk   \n",
       "22-6-2023     3  Argumentaties beargumteren & weerleggen/Plotten   \n",
       "27-6-2023     4                  Laatste aanpassingen doorvoeren   \n",
       "29-6-2023     2                  Laatste aanpassingen doorvoeren   \n",
       "\n",
       "                                       Mert  \\\n",
       "Datum                                         \n",
       "6-6-2023                        Individueel   \n",
       "8-6-2023                        Individueel   \n",
       "13-6-2023                       Gezamenlijk   \n",
       "15-6-2023                       Gezamenlijk   \n",
       "20-6-2023                       Gezamenlijk   \n",
       "22-6-2023  Presenteren/Preprocessen/Plotten   \n",
       "27-6-2023   Laatste aanpassingen doorvoeren   \n",
       "29-6-2023   Laatste aanpassingen doorvoeren   \n",
       "\n",
       "                                                                               Roman  \\\n",
       "Datum                                                                                  \n",
       "6-6-2023                                                                 Individueel   \n",
       "8-6-2023                                                                 Individueel   \n",
       "13-6-2023                                                                Gezamenlijk   \n",
       "15-6-2023                                                                Gezamenlijk   \n",
       "20-6-2023                                                                Gezamenlijk   \n",
       "22-6-2023   Presenteren/Argumentaties beargumteren & weerleggen/Preprocessen/Plotten   \n",
       "27-6-2023                                            Laatste aanpassingen doorvoeren   \n",
       "29-6-2023  Alle delen van het onderzoek samenstellen/laatste aanpassingen doorvoeren   \n",
       "\n",
       "                                                                                                                                                                Probleem & Oplossingen  \n",
       "Datum                                                                                                                                                                                   \n",
       "6-6-2023                                                                                    In de eerste week zaten wij tijdens de werkcolleges te werken aan de wekelijkse opdracht.   \n",
       "8-6-2023                                                                                    In de eerste week zaten wij tijdens de werkcolleges te werken aan de wekelijkse opdracht.   \n",
       "13-6-2023  In deze college zijn wij begonnen met het bedenken van onze onderzoeksvraag en zijn wij datasets gaan zoeken die onze ondersvraag zouden kunnen ondersteunen en weerleggen.  \n",
       "15-6-2023                                                                 In deze college zijn wij datasets gaan zoeken die onze ondersvraag zouden kunnen ondersteunen en weerleggen.  \n",
       "20-6-2023                         We kwamen er achter dat onze onderzoeksvraag niet goed genoeg was en besloten wij een andere onderzoeksvraag te vinden en er datasets bij te vinden.  \n",
       "22-6-2023                                                         Hier hebben we datasets gevonden en hebben zijn wij begonnen aan de preproccsing om de plots te kunnen visualiseren.  \n",
       "27-6-2023                                                                                    We hebben onze data  gevisualiseerd en hebben onze argumenten hiermee kunnen onderbouwen.  \n",
       "29-6-2023                                                                                                   De laatste puntjes zijn op de 'i' gezet en hebben onze onderzoek afgerond.  "
      ]
     },
     "metadata": {},
     "output_type": "display_data"
    }
   ],
   "source": [
    "logboek = pd.read_csv('logboek.csv', delimiter=';')\n",
    "pd.set_option('display.max_colwidth', None)\n",
    "logboek = logboek.set_index('Datum')\n",
    "\n",
    "display(logboek)"
   ]
  },
  {
   "attachments": {},
   "cell_type": "markdown",
   "metadata": {},
   "source": [
    "# Bronvermelding\n",
    "\n",
    "- Eerdmans, J. (2021, 18 juni). Deens migratiebeleid is allesbehalve inhumaan of xenofoob. NRC. https://www.nrc.nl/nieuws/2021/06/17/deens-migratiebeleid-is-juist-een-voorbeeld-voor-nederland-a4047709#/handelsblad/2021/06/18/#118"
   ]
  },
  {
   "cell_type": "markdown",
   "metadata": {},
   "source": []
  }
 ],
 "metadata": {
  "kernelspec": {
   "display_name": "CI",
   "language": "python",
   "name": "python3"
  },
  "language_info": {
   "codemirror_mode": {
    "name": "ipython",
    "version": 3
   },
   "file_extension": ".py",
   "mimetype": "text/x-python",
   "name": "python",
   "nbconvert_exporter": "python",
   "pygments_lexer": "ipython3",
   "version": "3.9.7"
  },
  "orig_nbformat": 4
 },
 "nbformat": 4,
 "nbformat_minor": 2
}
